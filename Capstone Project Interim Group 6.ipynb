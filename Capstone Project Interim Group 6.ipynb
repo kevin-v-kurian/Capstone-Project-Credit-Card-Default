{
 "cells": [
  {
   "cell_type": "markdown",
   "metadata": {},
   "source": [
    "## Default of Credit Card Clients Dataset"
   ]
  },
  {
   "cell_type": "markdown",
   "metadata": {},
   "source": [
    "A Taiwan-based credit card issuer wants to better predict the likelihood of default for its customers, as well as identify the key drivers that determine this likelihood. This would inform the issuer’s decisions on who to give a credit card to and what credit limit to provide. It would also help the issuer have a better understanding of their current and potential customers, which would inform their future strategy, including their planning of offering targeted credit products to their customers."
   ]
  },
  {
   "cell_type": "markdown",
   "metadata": {},
   "source": [
    "## Dataset Information"
   ]
  },
  {
   "cell_type": "markdown",
   "metadata": {},
   "source": [
    "This dataset contains information on default payments, demographic factors, credit data, history of payment, and bill statements of credit card clients in Taiwan from April 2005 to September 2005.\n",
    "\n",
    "\n",
    "There are 25 variables:\n",
    "\n",
    "- ID: ID of each client\n",
    "- LIMIT_BAL: Amount of given credit in NT dollars (includes individual and family/supplementary credit\n",
    "- SEX: Gender (1=male, 2=female)\n",
    "- EDUCATION: (1=graduate school, 2=university, 3=high school, 4=others, 5=unknown, 6=unknown)\n",
    "- MARRIAGE: Marital status (1=married, 2=single, 3=others)\n",
    "- AGE: Age in years\n",
    "- PAY_0: Repayment status in September, 2005 (-2 = No consumption, -1 = paid in full, 0 = use of revolving credit (paid minimum only), 1=payment delay for one month, 2=payment delay for two months, … 8=payment delay for eight months, 9=payment delay for nine months and above)\n",
    "- PAY_2: Repayment status in August, 2005 (scale same as above)\n",
    "- PAY_3: Repayment status in July, 2005 (scale same as above)\n",
    "- PAY_4: Repayment status in June, 2005 (scale same as above)\n",
    "- PAY_5: Repayment status in May, 2005 (scale same as above)\n",
    "- PAY_6: Repayment status in April, 2005 (scale same as above)\n",
    "- BILL_AMT1: Amount of bill statement in September, 2005 (NT dollar)\n",
    "- BILL_AMT2: Amount of bill statement in August, 2005 (NT dollar)\n",
    "- BILL_AMT3: Amount of bill statement in July, 2005 (NT dollar)\n",
    "- BILL_AMT4: Amount of bill statement in June, 2005 (NT dollar)\n",
    "- BILL_AMT5: Amount of bill statement in May, 2005 (NT dollar)\n",
    "- BILL_AMT6: Amount of bill statement in April, 2005 (NT dollar)\n",
    "- PAY_AMT1: Amount of previous payment in September, 2005 (NT dollar)\n",
    "- PAY_AMT2: Amount of previous payment in August, 2005 (NT dollar)\n",
    "- PAY_AMT3: Amount of previous payment in July, 2005 (NT dollar)\n",
    "- PAY_AMT4: Amount of previous payment in June, 2005 (NT dollar)\n",
    "- PAY_AMT5: Amount of previous payment in May, 2005 (NT dollar)\n",
    "- PAY_AMT6: Amount of previous payment in April, 2005 (NT dollar)\n",
    "- default.payment.next.month: Default payment (1=yes, 0=no)"
   ]
  },
  {
   "cell_type": "markdown",
   "metadata": {},
   "source": [
    "(Data source: https://www.kaggle.com/uciml/default-of-credit-card-clients-dataset. We acknowledge the following: Lichman, M. (2013). UCI Machine Learning Repository [http://archive.ics.uci.edu/ml]. Irvine, CA: University of California, School of Information and Computer Science.)"
   ]
  },
  {
   "cell_type": "markdown",
   "metadata": {},
   "source": [
    "### Loading Libraries"
   ]
  },
  {
   "cell_type": "code",
   "execution_count": 1,
   "metadata": {},
   "outputs": [],
   "source": [
    "import numpy as np\n",
    "import pandas as pd\n",
    "import matplotlib.pyplot as plt\n",
    "import seaborn as sns\n",
    "%matplotlib inline"
   ]
  },
  {
   "cell_type": "code",
   "execution_count": 2,
   "metadata": {},
   "outputs": [],
   "source": [
    "import numpy\n",
    "from matplotlib import pyplot\n",
    "from pandas import read_csv\n",
    "from pandas import set_option\n",
    "from pandas.plotting import scatter_matrix\n",
    "from sklearn.preprocessing import StandardScaler\n",
    "from sklearn.model_selection import train_test_split\n",
    "from sklearn.model_selection import KFold\n",
    "from sklearn.model_selection import cross_val_score\n",
    "from sklearn.model_selection import GridSearchCV\n",
    "from sklearn.model_selection import cross_validate\n",
    "from sklearn.metrics import classification_report\n",
    "from sklearn.metrics import confusion_matrix\n",
    "from sklearn.metrics import accuracy_score\n",
    "from sklearn.pipeline import Pipeline\n",
    "from sklearn.linear_model import LogisticRegression\n",
    "from sklearn.tree import DecisionTreeClassifier\n",
    "from sklearn.neighbors import KNeighborsClassifier\n",
    "from sklearn.discriminant_analysis import LinearDiscriminantAnalysis\n",
    "from sklearn.naive_bayes import GaussianNB\n",
    "from sklearn.svm import SVC\n",
    "from sklearn.ensemble import AdaBoostClassifier\n",
    "from sklearn.ensemble import GradientBoostingClassifier\n",
    "from sklearn.ensemble import RandomForestClassifier\n",
    "from sklearn.ensemble import ExtraTreesClassifier\n",
    "from sklearn.decomposition import PCA\n",
    "from sklearn.model_selection import StratifiedKFold"
   ]
  },
  {
   "cell_type": "code",
   "execution_count": 3,
   "metadata": {},
   "outputs": [],
   "source": [
    "from sklearn.base import BaseEstimator, TransformerMixin\n",
    "from sklearn.preprocessing import OneHotEncoder, StandardScaler\n",
    "from sklearn.impute import SimpleImputer\n",
    "from sklearn.pipeline import FeatureUnion, Pipeline "
   ]
  },
  {
   "cell_type": "code",
   "execution_count": 4,
   "metadata": {},
   "outputs": [],
   "source": [
    "pd.set_option('display.max_columns',None)"
   ]
  },
  {
   "cell_type": "markdown",
   "metadata": {},
   "source": [
    "### Loading Dataset"
   ]
  },
  {
   "cell_type": "code",
   "execution_count": 4,
   "metadata": {},
   "outputs": [
    {
     "data": {
      "text/html": [
       "<div>\n",
       "<style scoped>\n",
       "    .dataframe tbody tr th:only-of-type {\n",
       "        vertical-align: middle;\n",
       "    }\n",
       "\n",
       "    .dataframe tbody tr th {\n",
       "        vertical-align: top;\n",
       "    }\n",
       "\n",
       "    .dataframe thead th {\n",
       "        text-align: right;\n",
       "    }\n",
       "</style>\n",
       "<table border=\"1\" class=\"dataframe\">\n",
       "  <thead>\n",
       "    <tr style=\"text-align: right;\">\n",
       "      <th></th>\n",
       "      <th>ID</th>\n",
       "      <th>LIMIT_BAL</th>\n",
       "      <th>SEX</th>\n",
       "      <th>EDUCATION</th>\n",
       "      <th>MARRIAGE</th>\n",
       "      <th>AGE</th>\n",
       "      <th>PAY_0</th>\n",
       "      <th>PAY_2</th>\n",
       "      <th>PAY_3</th>\n",
       "      <th>PAY_4</th>\n",
       "      <th>...</th>\n",
       "      <th>BILL_AMT4</th>\n",
       "      <th>BILL_AMT5</th>\n",
       "      <th>BILL_AMT6</th>\n",
       "      <th>PAY_AMT1</th>\n",
       "      <th>PAY_AMT2</th>\n",
       "      <th>PAY_AMT3</th>\n",
       "      <th>PAY_AMT4</th>\n",
       "      <th>PAY_AMT5</th>\n",
       "      <th>PAY_AMT6</th>\n",
       "      <th>default.payment.next.month</th>\n",
       "    </tr>\n",
       "  </thead>\n",
       "  <tbody>\n",
       "    <tr>\n",
       "      <th>6780</th>\n",
       "      <td>6781</td>\n",
       "      <td>150000.0</td>\n",
       "      <td>1</td>\n",
       "      <td>3</td>\n",
       "      <td>1</td>\n",
       "      <td>43</td>\n",
       "      <td>0</td>\n",
       "      <td>0</td>\n",
       "      <td>0</td>\n",
       "      <td>0</td>\n",
       "      <td>...</td>\n",
       "      <td>46602.0</td>\n",
       "      <td>40599.0</td>\n",
       "      <td>37192.0</td>\n",
       "      <td>3008.0</td>\n",
       "      <td>2014.0</td>\n",
       "      <td>1599.0</td>\n",
       "      <td>2014.0</td>\n",
       "      <td>2018.0</td>\n",
       "      <td>1041.0</td>\n",
       "      <td>0</td>\n",
       "    </tr>\n",
       "    <tr>\n",
       "      <th>24842</th>\n",
       "      <td>24843</td>\n",
       "      <td>380000.0</td>\n",
       "      <td>1</td>\n",
       "      <td>2</td>\n",
       "      <td>1</td>\n",
       "      <td>43</td>\n",
       "      <td>0</td>\n",
       "      <td>-1</td>\n",
       "      <td>-1</td>\n",
       "      <td>0</td>\n",
       "      <td>...</td>\n",
       "      <td>259176.0</td>\n",
       "      <td>47494.0</td>\n",
       "      <td>129274.0</td>\n",
       "      <td>96778.0</td>\n",
       "      <td>243301.0</td>\n",
       "      <td>21066.0</td>\n",
       "      <td>2137.0</td>\n",
       "      <td>110000.0</td>\n",
       "      <td>50110.0</td>\n",
       "      <td>0</td>\n",
       "    </tr>\n",
       "    <tr>\n",
       "      <th>20060</th>\n",
       "      <td>20061</td>\n",
       "      <td>160000.0</td>\n",
       "      <td>2</td>\n",
       "      <td>1</td>\n",
       "      <td>1</td>\n",
       "      <td>43</td>\n",
       "      <td>-1</td>\n",
       "      <td>-1</td>\n",
       "      <td>-1</td>\n",
       "      <td>-1</td>\n",
       "      <td>...</td>\n",
       "      <td>450.0</td>\n",
       "      <td>748.0</td>\n",
       "      <td>5054.0</td>\n",
       "      <td>2817.0</td>\n",
       "      <td>0.0</td>\n",
       "      <td>450.0</td>\n",
       "      <td>748.0</td>\n",
       "      <td>5054.0</td>\n",
       "      <td>4711.0</td>\n",
       "      <td>1</td>\n",
       "    </tr>\n",
       "  </tbody>\n",
       "</table>\n",
       "<p>3 rows × 25 columns</p>\n",
       "</div>"
      ],
      "text/plain": [
       "          ID  LIMIT_BAL  SEX  EDUCATION  MARRIAGE  AGE  PAY_0  PAY_2  PAY_3  \\\n",
       "6780    6781   150000.0    1          3         1   43      0      0      0   \n",
       "24842  24843   380000.0    1          2         1   43      0     -1     -1   \n",
       "20060  20061   160000.0    2          1         1   43     -1     -1     -1   \n",
       "\n",
       "       PAY_4  ...  BILL_AMT4  BILL_AMT5  BILL_AMT6  PAY_AMT1  PAY_AMT2  \\\n",
       "6780       0  ...    46602.0    40599.0    37192.0    3008.0    2014.0   \n",
       "24842      0  ...   259176.0    47494.0   129274.0   96778.0  243301.0   \n",
       "20060     -1  ...      450.0      748.0     5054.0    2817.0       0.0   \n",
       "\n",
       "       PAY_AMT3  PAY_AMT4  PAY_AMT5  PAY_AMT6  default.payment.next.month  \n",
       "6780     1599.0    2014.0    2018.0    1041.0                           0  \n",
       "24842   21066.0    2137.0  110000.0   50110.0                           0  \n",
       "20060     450.0     748.0    5054.0    4711.0                           1  \n",
       "\n",
       "[3 rows x 25 columns]"
      ]
     },
     "execution_count": 4,
     "metadata": {},
     "output_type": "execute_result"
    }
   ],
   "source": [
    "credit_card=pd.read_csv('UCI_Credit_Card.csv')\n",
    "credit_card.sample(3)"
   ]
  },
  {
   "cell_type": "markdown",
   "metadata": {},
   "source": [
    "### Nature of the Data"
   ]
  },
  {
   "cell_type": "code",
   "execution_count": 5,
   "metadata": {},
   "outputs": [
    {
     "name": "stdout",
     "output_type": "stream",
     "text": [
      "Dataset contains 30000 samples and 25 features\n"
     ]
    }
   ],
   "source": [
    "print(\"Dataset contains\",credit_card.shape[0],\"samples and\" , credit_card.shape[1], \"features\")"
   ]
  },
  {
   "cell_type": "markdown",
   "metadata": {},
   "source": [
    "### Dataset Attributes"
   ]
  },
  {
   "cell_type": "code",
   "execution_count": 5,
   "metadata": {},
   "outputs": [
    {
     "data": {
      "text/plain": [
       "Index(['ID', 'LIMIT_BAL', 'SEX', 'EDUCATION', 'MARRIAGE', 'AGE', 'PAY_0',\n",
       "       'PAY_2', 'PAY_3', 'PAY_4', 'PAY_5', 'PAY_6', 'BILL_AMT1', 'BILL_AMT2',\n",
       "       'BILL_AMT3', 'BILL_AMT4', 'BILL_AMT5', 'BILL_AMT6', 'PAY_AMT1',\n",
       "       'PAY_AMT2', 'PAY_AMT3', 'PAY_AMT4', 'PAY_AMT5', 'PAY_AMT6',\n",
       "       'default.payment.next.month'],\n",
       "      dtype='object')"
      ]
     },
     "execution_count": 5,
     "metadata": {},
     "output_type": "execute_result"
    }
   ],
   "source": [
    "credit_card.columns"
   ]
  },
  {
   "cell_type": "markdown",
   "metadata": {},
   "source": [
    "### Statistical Overview "
   ]
  },
  {
   "cell_type": "code",
   "execution_count": 6,
   "metadata": {
    "scrolled": true
   },
   "outputs": [
    {
     "data": {
      "text/html": [
       "<div>\n",
       "<style scoped>\n",
       "    .dataframe tbody tr th:only-of-type {\n",
       "        vertical-align: middle;\n",
       "    }\n",
       "\n",
       "    .dataframe tbody tr th {\n",
       "        vertical-align: top;\n",
       "    }\n",
       "\n",
       "    .dataframe thead th {\n",
       "        text-align: right;\n",
       "    }\n",
       "</style>\n",
       "<table border=\"1\" class=\"dataframe\">\n",
       "  <thead>\n",
       "    <tr style=\"text-align: right;\">\n",
       "      <th></th>\n",
       "      <th>ID</th>\n",
       "      <th>LIMIT_BAL</th>\n",
       "      <th>SEX</th>\n",
       "      <th>EDUCATION</th>\n",
       "      <th>MARRIAGE</th>\n",
       "      <th>AGE</th>\n",
       "      <th>PAY_0</th>\n",
       "      <th>PAY_2</th>\n",
       "      <th>PAY_3</th>\n",
       "      <th>PAY_4</th>\n",
       "      <th>...</th>\n",
       "      <th>BILL_AMT4</th>\n",
       "      <th>BILL_AMT5</th>\n",
       "      <th>BILL_AMT6</th>\n",
       "      <th>PAY_AMT1</th>\n",
       "      <th>PAY_AMT2</th>\n",
       "      <th>PAY_AMT3</th>\n",
       "      <th>PAY_AMT4</th>\n",
       "      <th>PAY_AMT5</th>\n",
       "      <th>PAY_AMT6</th>\n",
       "      <th>default.payment.next.month</th>\n",
       "    </tr>\n",
       "  </thead>\n",
       "  <tbody>\n",
       "    <tr>\n",
       "      <th>count</th>\n",
       "      <td>30000.000000</td>\n",
       "      <td>30000.000000</td>\n",
       "      <td>30000.000000</td>\n",
       "      <td>30000.000000</td>\n",
       "      <td>30000.000000</td>\n",
       "      <td>30000.000000</td>\n",
       "      <td>30000.000000</td>\n",
       "      <td>30000.000000</td>\n",
       "      <td>30000.000000</td>\n",
       "      <td>30000.000000</td>\n",
       "      <td>...</td>\n",
       "      <td>30000.000000</td>\n",
       "      <td>30000.000000</td>\n",
       "      <td>30000.000000</td>\n",
       "      <td>30000.000000</td>\n",
       "      <td>3.000000e+04</td>\n",
       "      <td>30000.00000</td>\n",
       "      <td>30000.000000</td>\n",
       "      <td>30000.000000</td>\n",
       "      <td>30000.000000</td>\n",
       "      <td>30000.000000</td>\n",
       "    </tr>\n",
       "    <tr>\n",
       "      <th>mean</th>\n",
       "      <td>15000.500000</td>\n",
       "      <td>167484.322667</td>\n",
       "      <td>1.603733</td>\n",
       "      <td>1.853133</td>\n",
       "      <td>1.551867</td>\n",
       "      <td>35.485500</td>\n",
       "      <td>-0.016700</td>\n",
       "      <td>-0.133767</td>\n",
       "      <td>-0.166200</td>\n",
       "      <td>-0.220667</td>\n",
       "      <td>...</td>\n",
       "      <td>43262.948967</td>\n",
       "      <td>40311.400967</td>\n",
       "      <td>38871.760400</td>\n",
       "      <td>5663.580500</td>\n",
       "      <td>5.921163e+03</td>\n",
       "      <td>5225.68150</td>\n",
       "      <td>4826.076867</td>\n",
       "      <td>4799.387633</td>\n",
       "      <td>5215.502567</td>\n",
       "      <td>0.221200</td>\n",
       "    </tr>\n",
       "    <tr>\n",
       "      <th>std</th>\n",
       "      <td>8660.398374</td>\n",
       "      <td>129747.661567</td>\n",
       "      <td>0.489129</td>\n",
       "      <td>0.790349</td>\n",
       "      <td>0.521970</td>\n",
       "      <td>9.217904</td>\n",
       "      <td>1.123802</td>\n",
       "      <td>1.197186</td>\n",
       "      <td>1.196868</td>\n",
       "      <td>1.169139</td>\n",
       "      <td>...</td>\n",
       "      <td>64332.856134</td>\n",
       "      <td>60797.155770</td>\n",
       "      <td>59554.107537</td>\n",
       "      <td>16563.280354</td>\n",
       "      <td>2.304087e+04</td>\n",
       "      <td>17606.96147</td>\n",
       "      <td>15666.159744</td>\n",
       "      <td>15278.305679</td>\n",
       "      <td>17777.465775</td>\n",
       "      <td>0.415062</td>\n",
       "    </tr>\n",
       "    <tr>\n",
       "      <th>min</th>\n",
       "      <td>1.000000</td>\n",
       "      <td>10000.000000</td>\n",
       "      <td>1.000000</td>\n",
       "      <td>0.000000</td>\n",
       "      <td>0.000000</td>\n",
       "      <td>21.000000</td>\n",
       "      <td>-2.000000</td>\n",
       "      <td>-2.000000</td>\n",
       "      <td>-2.000000</td>\n",
       "      <td>-2.000000</td>\n",
       "      <td>...</td>\n",
       "      <td>-170000.000000</td>\n",
       "      <td>-81334.000000</td>\n",
       "      <td>-339603.000000</td>\n",
       "      <td>0.000000</td>\n",
       "      <td>0.000000e+00</td>\n",
       "      <td>0.00000</td>\n",
       "      <td>0.000000</td>\n",
       "      <td>0.000000</td>\n",
       "      <td>0.000000</td>\n",
       "      <td>0.000000</td>\n",
       "    </tr>\n",
       "    <tr>\n",
       "      <th>25%</th>\n",
       "      <td>7500.750000</td>\n",
       "      <td>50000.000000</td>\n",
       "      <td>1.000000</td>\n",
       "      <td>1.000000</td>\n",
       "      <td>1.000000</td>\n",
       "      <td>28.000000</td>\n",
       "      <td>-1.000000</td>\n",
       "      <td>-1.000000</td>\n",
       "      <td>-1.000000</td>\n",
       "      <td>-1.000000</td>\n",
       "      <td>...</td>\n",
       "      <td>2326.750000</td>\n",
       "      <td>1763.000000</td>\n",
       "      <td>1256.000000</td>\n",
       "      <td>1000.000000</td>\n",
       "      <td>8.330000e+02</td>\n",
       "      <td>390.00000</td>\n",
       "      <td>296.000000</td>\n",
       "      <td>252.500000</td>\n",
       "      <td>117.750000</td>\n",
       "      <td>0.000000</td>\n",
       "    </tr>\n",
       "    <tr>\n",
       "      <th>50%</th>\n",
       "      <td>15000.500000</td>\n",
       "      <td>140000.000000</td>\n",
       "      <td>2.000000</td>\n",
       "      <td>2.000000</td>\n",
       "      <td>2.000000</td>\n",
       "      <td>34.000000</td>\n",
       "      <td>0.000000</td>\n",
       "      <td>0.000000</td>\n",
       "      <td>0.000000</td>\n",
       "      <td>0.000000</td>\n",
       "      <td>...</td>\n",
       "      <td>19052.000000</td>\n",
       "      <td>18104.500000</td>\n",
       "      <td>17071.000000</td>\n",
       "      <td>2100.000000</td>\n",
       "      <td>2.009000e+03</td>\n",
       "      <td>1800.00000</td>\n",
       "      <td>1500.000000</td>\n",
       "      <td>1500.000000</td>\n",
       "      <td>1500.000000</td>\n",
       "      <td>0.000000</td>\n",
       "    </tr>\n",
       "    <tr>\n",
       "      <th>75%</th>\n",
       "      <td>22500.250000</td>\n",
       "      <td>240000.000000</td>\n",
       "      <td>2.000000</td>\n",
       "      <td>2.000000</td>\n",
       "      <td>2.000000</td>\n",
       "      <td>41.000000</td>\n",
       "      <td>0.000000</td>\n",
       "      <td>0.000000</td>\n",
       "      <td>0.000000</td>\n",
       "      <td>0.000000</td>\n",
       "      <td>...</td>\n",
       "      <td>54506.000000</td>\n",
       "      <td>50190.500000</td>\n",
       "      <td>49198.250000</td>\n",
       "      <td>5006.000000</td>\n",
       "      <td>5.000000e+03</td>\n",
       "      <td>4505.00000</td>\n",
       "      <td>4013.250000</td>\n",
       "      <td>4031.500000</td>\n",
       "      <td>4000.000000</td>\n",
       "      <td>0.000000</td>\n",
       "    </tr>\n",
       "    <tr>\n",
       "      <th>max</th>\n",
       "      <td>30000.000000</td>\n",
       "      <td>1000000.000000</td>\n",
       "      <td>2.000000</td>\n",
       "      <td>6.000000</td>\n",
       "      <td>3.000000</td>\n",
       "      <td>79.000000</td>\n",
       "      <td>8.000000</td>\n",
       "      <td>8.000000</td>\n",
       "      <td>8.000000</td>\n",
       "      <td>8.000000</td>\n",
       "      <td>...</td>\n",
       "      <td>891586.000000</td>\n",
       "      <td>927171.000000</td>\n",
       "      <td>961664.000000</td>\n",
       "      <td>873552.000000</td>\n",
       "      <td>1.684259e+06</td>\n",
       "      <td>896040.00000</td>\n",
       "      <td>621000.000000</td>\n",
       "      <td>426529.000000</td>\n",
       "      <td>528666.000000</td>\n",
       "      <td>1.000000</td>\n",
       "    </tr>\n",
       "  </tbody>\n",
       "</table>\n",
       "<p>8 rows × 25 columns</p>\n",
       "</div>"
      ],
      "text/plain": [
       "                 ID       LIMIT_BAL           SEX     EDUCATION      MARRIAGE  \\\n",
       "count  30000.000000    30000.000000  30000.000000  30000.000000  30000.000000   \n",
       "mean   15000.500000   167484.322667      1.603733      1.853133      1.551867   \n",
       "std     8660.398374   129747.661567      0.489129      0.790349      0.521970   \n",
       "min        1.000000    10000.000000      1.000000      0.000000      0.000000   \n",
       "25%     7500.750000    50000.000000      1.000000      1.000000      1.000000   \n",
       "50%    15000.500000   140000.000000      2.000000      2.000000      2.000000   \n",
       "75%    22500.250000   240000.000000      2.000000      2.000000      2.000000   \n",
       "max    30000.000000  1000000.000000      2.000000      6.000000      3.000000   \n",
       "\n",
       "                AGE         PAY_0         PAY_2         PAY_3         PAY_4  \\\n",
       "count  30000.000000  30000.000000  30000.000000  30000.000000  30000.000000   \n",
       "mean      35.485500     -0.016700     -0.133767     -0.166200     -0.220667   \n",
       "std        9.217904      1.123802      1.197186      1.196868      1.169139   \n",
       "min       21.000000     -2.000000     -2.000000     -2.000000     -2.000000   \n",
       "25%       28.000000     -1.000000     -1.000000     -1.000000     -1.000000   \n",
       "50%       34.000000      0.000000      0.000000      0.000000      0.000000   \n",
       "75%       41.000000      0.000000      0.000000      0.000000      0.000000   \n",
       "max       79.000000      8.000000      8.000000      8.000000      8.000000   \n",
       "\n",
       "       ...      BILL_AMT4      BILL_AMT5      BILL_AMT6       PAY_AMT1  \\\n",
       "count  ...   30000.000000   30000.000000   30000.000000   30000.000000   \n",
       "mean   ...   43262.948967   40311.400967   38871.760400    5663.580500   \n",
       "std    ...   64332.856134   60797.155770   59554.107537   16563.280354   \n",
       "min    ... -170000.000000  -81334.000000 -339603.000000       0.000000   \n",
       "25%    ...    2326.750000    1763.000000    1256.000000    1000.000000   \n",
       "50%    ...   19052.000000   18104.500000   17071.000000    2100.000000   \n",
       "75%    ...   54506.000000   50190.500000   49198.250000    5006.000000   \n",
       "max    ...  891586.000000  927171.000000  961664.000000  873552.000000   \n",
       "\n",
       "           PAY_AMT2      PAY_AMT3       PAY_AMT4       PAY_AMT5  \\\n",
       "count  3.000000e+04   30000.00000   30000.000000   30000.000000   \n",
       "mean   5.921163e+03    5225.68150    4826.076867    4799.387633   \n",
       "std    2.304087e+04   17606.96147   15666.159744   15278.305679   \n",
       "min    0.000000e+00       0.00000       0.000000       0.000000   \n",
       "25%    8.330000e+02     390.00000     296.000000     252.500000   \n",
       "50%    2.009000e+03    1800.00000    1500.000000    1500.000000   \n",
       "75%    5.000000e+03    4505.00000    4013.250000    4031.500000   \n",
       "max    1.684259e+06  896040.00000  621000.000000  426529.000000   \n",
       "\n",
       "            PAY_AMT6  default.payment.next.month  \n",
       "count   30000.000000                30000.000000  \n",
       "mean     5215.502567                    0.221200  \n",
       "std     17777.465775                    0.415062  \n",
       "min         0.000000                    0.000000  \n",
       "25%       117.750000                    0.000000  \n",
       "50%      1500.000000                    0.000000  \n",
       "75%      4000.000000                    0.000000  \n",
       "max    528666.000000                    1.000000  \n",
       "\n",
       "[8 rows x 25 columns]"
      ]
     },
     "execution_count": 6,
     "metadata": {},
     "output_type": "execute_result"
    }
   ],
   "source": [
    "credit_card.describe()"
   ]
  },
  {
   "cell_type": "markdown",
   "metadata": {},
   "source": [
    "From the above statistical summary it is evident that\n",
    "\n",
    "* There are 30000 distinct id's in the dataset which means 30000 credit card holders.\n",
    "\n",
    "* The average credit limit amount is 167,484.32 with std. 129,747.66 where the highest amount is 1000000.\n",
    "\n",
    "* Most of the card holders are either graduate school or university.\n",
    "\n",
    "* Most of the credit card holders are either married or single\n",
    "\n",
    "* Credit card holders age ranges from 21 to 79 and the average age is 35.48 with standard deviation 9.21\n",
    "\n",
    "* If we look at our target column which includes two distinct values 0 and 1 where 0 for default payment means \"not default\" and 1 means \"default\", and the mean is 0.221 which means that there are 22.1% card holders who will default next month.\n"
   ]
  },
  {
   "cell_type": "markdown",
   "metadata": {},
   "source": [
    "### Concise summary of the dataframe"
   ]
  },
  {
   "cell_type": "code",
   "execution_count": 7,
   "metadata": {
    "scrolled": true
   },
   "outputs": [
    {
     "name": "stdout",
     "output_type": "stream",
     "text": [
      "<class 'pandas.core.frame.DataFrame'>\n",
      "RangeIndex: 30000 entries, 0 to 29999\n",
      "Data columns (total 25 columns):\n",
      " #   Column                      Non-Null Count  Dtype  \n",
      "---  ------                      --------------  -----  \n",
      " 0   ID                          30000 non-null  int64  \n",
      " 1   LIMIT_BAL                   30000 non-null  float64\n",
      " 2   SEX                         30000 non-null  int64  \n",
      " 3   EDUCATION                   30000 non-null  int64  \n",
      " 4   MARRIAGE                    30000 non-null  int64  \n",
      " 5   AGE                         30000 non-null  int64  \n",
      " 6   PAY_0                       30000 non-null  int64  \n",
      " 7   PAY_2                       30000 non-null  int64  \n",
      " 8   PAY_3                       30000 non-null  int64  \n",
      " 9   PAY_4                       30000 non-null  int64  \n",
      " 10  PAY_5                       30000 non-null  int64  \n",
      " 11  PAY_6                       30000 non-null  int64  \n",
      " 12  BILL_AMT1                   30000 non-null  float64\n",
      " 13  BILL_AMT2                   30000 non-null  float64\n",
      " 14  BILL_AMT3                   30000 non-null  float64\n",
      " 15  BILL_AMT4                   30000 non-null  float64\n",
      " 16  BILL_AMT5                   30000 non-null  float64\n",
      " 17  BILL_AMT6                   30000 non-null  float64\n",
      " 18  PAY_AMT1                    30000 non-null  float64\n",
      " 19  PAY_AMT2                    30000 non-null  float64\n",
      " 20  PAY_AMT3                    30000 non-null  float64\n",
      " 21  PAY_AMT4                    30000 non-null  float64\n",
      " 22  PAY_AMT5                    30000 non-null  float64\n",
      " 23  PAY_AMT6                    30000 non-null  float64\n",
      " 24  default.payment.next.month  30000 non-null  int64  \n",
      "dtypes: float64(13), int64(12)\n",
      "memory usage: 5.7 MB\n"
     ]
    }
   ],
   "source": [
    "credit_card.info()"
   ]
  },
  {
   "cell_type": "markdown",
   "metadata": {},
   "source": [
    "### Outcome Variable Overview"
   ]
  },
  {
   "cell_type": "code",
   "execution_count": 8,
   "metadata": {},
   "outputs": [
    {
     "data": {
      "text/plain": [
       "0    77.88\n",
       "1    22.12\n",
       "Name: default.payment.next.month, dtype: float64"
      ]
     },
     "execution_count": 8,
     "metadata": {},
     "output_type": "execute_result"
    }
   ],
   "source": [
    "credit_card[\"default.payment.next.month\"].value_counts(normalize = True)*100"
   ]
  },
  {
   "cell_type": "markdown",
   "metadata": {},
   "source": [
    "Almost one in every 3-4 people will end up defaulting."
   ]
  },
  {
   "cell_type": "markdown",
   "metadata": {},
   "source": [
    "#### Data Imbalance"
   ]
  },
  {
   "cell_type": "code",
   "execution_count": 9,
   "metadata": {},
   "outputs": [],
   "source": [
    "import warnings \n",
    "warnings.filterwarnings('ignore')"
   ]
  },
  {
   "cell_type": "markdown",
   "metadata": {},
   "source": [
    "### Grouping unknown values in education"
   ]
  },
  {
   "cell_type": "code",
   "execution_count": 8,
   "metadata": {},
   "outputs": [
    {
     "name": "stderr",
     "output_type": "stream",
     "text": [
      "C:\\Users\\kevin\\anaconda3\\lib\\site-packages\\ipykernel_launcher.py:1: SettingWithCopyWarning: \n",
      "A value is trying to be set on a copy of a slice from a DataFrame\n",
      "\n",
      "See the caveats in the documentation: https://pandas.pydata.org/pandas-docs/stable/user_guide/indexing.html#returning-a-view-versus-a-copy\n",
      "  \"\"\"Entry point for launching an IPython kernel.\n"
     ]
    },
    {
     "data": {
      "text/plain": [
       "2    14030\n",
       "1    10585\n",
       "3     4917\n",
       "4      468\n",
       "Name: EDUCATION, dtype: int64"
      ]
     },
     "execution_count": 8,
     "metadata": {},
     "output_type": "execute_result"
    }
   ],
   "source": [
    "credit_card['EDUCATION'][(credit_card['EDUCATION']==5) | (credit_card['EDUCATION']==6) | (credit_card['EDUCATION']==0)] = 4\n",
    "credit_card['EDUCATION'].value_counts()"
   ]
  },
  {
   "cell_type": "markdown",
   "metadata": {},
   "source": [
    "### Grouping unknown values in marriage"
   ]
  },
  {
   "cell_type": "code",
   "execution_count": 10,
   "metadata": {},
   "outputs": [
    {
     "data": {
      "text/plain": [
       "2    15964\n",
       "1    13659\n",
       "3      377\n",
       "Name: MARRIAGE, dtype: int64"
      ]
     },
     "execution_count": 10,
     "metadata": {},
     "output_type": "execute_result"
    }
   ],
   "source": [
    "credit_card['MARRIAGE'][credit_card['MARRIAGE'] == 0] = 3\n",
    "credit_card.MARRIAGE.value_counts()"
   ]
  },
  {
   "cell_type": "markdown",
   "metadata": {},
   "source": [
    "### Renaming attributes"
   ]
  },
  {
   "cell_type": "code",
   "execution_count": 11,
   "metadata": {},
   "outputs": [
    {
     "data": {
      "text/html": [
       "<div>\n",
       "<style scoped>\n",
       "    .dataframe tbody tr th:only-of-type {\n",
       "        vertical-align: middle;\n",
       "    }\n",
       "\n",
       "    .dataframe tbody tr th {\n",
       "        vertical-align: top;\n",
       "    }\n",
       "\n",
       "    .dataframe thead th {\n",
       "        text-align: right;\n",
       "    }\n",
       "</style>\n",
       "<table border=\"1\" class=\"dataframe\">\n",
       "  <thead>\n",
       "    <tr style=\"text-align: right;\">\n",
       "      <th></th>\n",
       "      <th>ID</th>\n",
       "      <th>LIMIT_BAL</th>\n",
       "      <th>SEX</th>\n",
       "      <th>EDUCATION</th>\n",
       "      <th>MARRIAGE</th>\n",
       "      <th>AGE</th>\n",
       "      <th>PAY_1</th>\n",
       "      <th>PAY_2</th>\n",
       "      <th>PAY_3</th>\n",
       "      <th>PAY_4</th>\n",
       "      <th>...</th>\n",
       "      <th>BILL_AMT4</th>\n",
       "      <th>BILL_AMT5</th>\n",
       "      <th>BILL_AMT6</th>\n",
       "      <th>PAY_AMT1</th>\n",
       "      <th>PAY_AMT2</th>\n",
       "      <th>PAY_AMT3</th>\n",
       "      <th>PAY_AMT4</th>\n",
       "      <th>PAY_AMT5</th>\n",
       "      <th>PAY_AMT6</th>\n",
       "      <th>DEFAULT</th>\n",
       "    </tr>\n",
       "  </thead>\n",
       "  <tbody>\n",
       "    <tr>\n",
       "      <th>0</th>\n",
       "      <td>1</td>\n",
       "      <td>20000.0</td>\n",
       "      <td>2</td>\n",
       "      <td>2</td>\n",
       "      <td>1</td>\n",
       "      <td>24</td>\n",
       "      <td>2</td>\n",
       "      <td>2</td>\n",
       "      <td>-1</td>\n",
       "      <td>-1</td>\n",
       "      <td>...</td>\n",
       "      <td>0.0</td>\n",
       "      <td>0.0</td>\n",
       "      <td>0.0</td>\n",
       "      <td>0.0</td>\n",
       "      <td>689.0</td>\n",
       "      <td>0.0</td>\n",
       "      <td>0.0</td>\n",
       "      <td>0.0</td>\n",
       "      <td>0.0</td>\n",
       "      <td>1</td>\n",
       "    </tr>\n",
       "    <tr>\n",
       "      <th>1</th>\n",
       "      <td>2</td>\n",
       "      <td>120000.0</td>\n",
       "      <td>2</td>\n",
       "      <td>2</td>\n",
       "      <td>2</td>\n",
       "      <td>26</td>\n",
       "      <td>-1</td>\n",
       "      <td>2</td>\n",
       "      <td>0</td>\n",
       "      <td>0</td>\n",
       "      <td>...</td>\n",
       "      <td>3272.0</td>\n",
       "      <td>3455.0</td>\n",
       "      <td>3261.0</td>\n",
       "      <td>0.0</td>\n",
       "      <td>1000.0</td>\n",
       "      <td>1000.0</td>\n",
       "      <td>1000.0</td>\n",
       "      <td>0.0</td>\n",
       "      <td>2000.0</td>\n",
       "      <td>1</td>\n",
       "    </tr>\n",
       "  </tbody>\n",
       "</table>\n",
       "<p>2 rows × 25 columns</p>\n",
       "</div>"
      ],
      "text/plain": [
       "   ID  LIMIT_BAL  SEX  EDUCATION  MARRIAGE  AGE  PAY_1  PAY_2  PAY_3  PAY_4  \\\n",
       "0   1    20000.0    2          2         1   24      2      2     -1     -1   \n",
       "1   2   120000.0    2          2         2   26     -1      2      0      0   \n",
       "\n",
       "   ...  BILL_AMT4  BILL_AMT5  BILL_AMT6  PAY_AMT1  PAY_AMT2  PAY_AMT3  \\\n",
       "0  ...        0.0        0.0        0.0       0.0     689.0       0.0   \n",
       "1  ...     3272.0     3455.0     3261.0       0.0    1000.0    1000.0   \n",
       "\n",
       "   PAY_AMT4  PAY_AMT5  PAY_AMT6  DEFAULT  \n",
       "0       0.0       0.0       0.0        1  \n",
       "1    1000.0       0.0    2000.0        1  \n",
       "\n",
       "[2 rows x 25 columns]"
      ]
     },
     "execution_count": 11,
     "metadata": {},
     "output_type": "execute_result"
    }
   ],
   "source": [
    "credit_card = credit_card.rename(columns={'default.payment.next.month': 'DEFAULT', \n",
    "                        'PAY_0': 'PAY_1'})\n",
    "credit_card.head(2)"
   ]
  },
  {
   "cell_type": "markdown",
   "metadata": {},
   "source": [
    "# FEATURE ENGINEERING"
   ]
  },
  {
   "cell_type": "code",
   "execution_count": null,
   "metadata": {},
   "outputs": [],
   "source": []
  },
  {
   "cell_type": "markdown",
   "metadata": {},
   "source": [
    "I want something to describe the expenses of a clientI am thinking of something like average expenses at any given month (again, for this first prediction I will just care about the last month but I might need the others later). Moreover, I want to give some context to it, so I will divide that number by LIMIT_BAL, so that we have a sort of extimation of how \"careless\" a client is."
   ]
  },
  {
   "cell_type": "code",
   "execution_count": 11,
   "metadata": {},
   "outputs": [
    {
     "data": {
      "text/html": [
       "<div>\n",
       "<style scoped>\n",
       "    .dataframe tbody tr th:only-of-type {\n",
       "        vertical-align: middle;\n",
       "    }\n",
       "\n",
       "    .dataframe tbody tr th {\n",
       "        vertical-align: top;\n",
       "    }\n",
       "\n",
       "    .dataframe thead th {\n",
       "        text-align: right;\n",
       "    }\n",
       "</style>\n",
       "<table border=\"1\" class=\"dataframe\">\n",
       "  <thead>\n",
       "    <tr style=\"text-align: right;\">\n",
       "      <th></th>\n",
       "      <th>LIMIT_BAL</th>\n",
       "      <th>Avg_exp_5</th>\n",
       "      <th>BILL_AMT5</th>\n",
       "      <th>Avg_exp_4</th>\n",
       "      <th>BILL_AMT4</th>\n",
       "      <th>Avg_exp_3</th>\n",
       "      <th>BILL_AMT3</th>\n",
       "      <th>Avg_exp_2</th>\n",
       "      <th>BILL_AMT2</th>\n",
       "      <th>Avg_exp_1</th>\n",
       "      <th>BILL_AMT1</th>\n",
       "      <th>DEFAULT</th>\n",
       "    </tr>\n",
       "  </thead>\n",
       "  <tbody>\n",
       "    <tr>\n",
       "      <th>22543</th>\n",
       "      <td>200000.0</td>\n",
       "      <td>0.000000</td>\n",
       "      <td>0.0</td>\n",
       "      <td>0.000000</td>\n",
       "      <td>0.0</td>\n",
       "      <td>0.000000</td>\n",
       "      <td>0.0</td>\n",
       "      <td>0.000000</td>\n",
       "      <td>0.0</td>\n",
       "      <td>0.000000</td>\n",
       "      <td>0.0</td>\n",
       "      <td>1</td>\n",
       "    </tr>\n",
       "    <tr>\n",
       "      <th>3421</th>\n",
       "      <td>110000.0</td>\n",
       "      <td>0.026827</td>\n",
       "      <td>3102.0</td>\n",
       "      <td>0.024200</td>\n",
       "      <td>1475.0</td>\n",
       "      <td>0.023324</td>\n",
       "      <td>2373.0</td>\n",
       "      <td>0.022886</td>\n",
       "      <td>2373.0</td>\n",
       "      <td>0.019325</td>\n",
       "      <td>2932.0</td>\n",
       "      <td>0</td>\n",
       "    </tr>\n",
       "    <tr>\n",
       "      <th>22349</th>\n",
       "      <td>490000.0</td>\n",
       "      <td>0.020247</td>\n",
       "      <td>93461.0</td>\n",
       "      <td>0.039039</td>\n",
       "      <td>118595.0</td>\n",
       "      <td>0.041042</td>\n",
       "      <td>52074.0</td>\n",
       "      <td>0.053332</td>\n",
       "      <td>93626.0</td>\n",
       "      <td>0.058275</td>\n",
       "      <td>128821.0</td>\n",
       "      <td>0</td>\n",
       "    </tr>\n",
       "  </tbody>\n",
       "</table>\n",
       "</div>"
      ],
      "text/plain": [
       "       LIMIT_BAL  Avg_exp_5  BILL_AMT5  Avg_exp_4  BILL_AMT4  Avg_exp_3  \\\n",
       "22543   200000.0   0.000000        0.0   0.000000        0.0   0.000000   \n",
       "3421    110000.0   0.026827     3102.0   0.024200     1475.0   0.023324   \n",
       "22349   490000.0   0.020247    93461.0   0.039039   118595.0   0.041042   \n",
       "\n",
       "       BILL_AMT3  Avg_exp_2  BILL_AMT2  Avg_exp_1  BILL_AMT1  DEFAULT  \n",
       "22543        0.0   0.000000        0.0   0.000000        0.0        1  \n",
       "3421      2373.0   0.022886     2373.0   0.019325     2932.0        0  \n",
       "22349    52074.0   0.053332    93626.0   0.058275   128821.0        0  "
      ]
     },
     "execution_count": 11,
     "metadata": {},
     "output_type": "execute_result"
    }
   ],
   "source": [
    "credit_card['Avg_exp_5'] = ((credit_card['BILL_AMT5'] - (credit_card['BILL_AMT6'] - credit_card['PAY_AMT5']))) / credit_card['LIMIT_BAL']\n",
    "credit_card['Avg_exp_4'] = (((credit_card['BILL_AMT5'] - (credit_card['BILL_AMT6'] - credit_card['PAY_AMT5'])) +\n",
    "                 (credit_card['BILL_AMT4'] - (credit_card['BILL_AMT5'] - credit_card['PAY_AMT4']))) / 2) / credit_card['LIMIT_BAL']\n",
    "credit_card['Avg_exp_3'] = (((credit_card['BILL_AMT5'] - (credit_card['BILL_AMT6'] - credit_card['PAY_AMT5'])) +\n",
    "                 (credit_card['BILL_AMT4'] - (credit_card['BILL_AMT5'] - credit_card['PAY_AMT4'])) +\n",
    "                 (credit_card['BILL_AMT3'] - (credit_card['BILL_AMT4'] - credit_card['PAY_AMT3']))) / 3) / credit_card['LIMIT_BAL']\n",
    "credit_card['Avg_exp_2'] = (((credit_card['BILL_AMT5'] - (credit_card['BILL_AMT6'] - credit_card['PAY_AMT5'])) +\n",
    "                 (credit_card['BILL_AMT4'] - (credit_card['BILL_AMT5'] - credit_card['PAY_AMT4'])) +\n",
    "                 (credit_card['BILL_AMT3'] - (credit_card['BILL_AMT4'] - credit_card['PAY_AMT3'])) +\n",
    "                 (credit_card['BILL_AMT2'] - (credit_card['BILL_AMT3'] - credit_card['PAY_AMT2']))) / 4) / credit_card['LIMIT_BAL']\n",
    "credit_card['Avg_exp_1'] = (((credit_card['BILL_AMT5'] - (credit_card['BILL_AMT6'] - credit_card['PAY_AMT5'])) +\n",
    "                 (credit_card['BILL_AMT4'] - (credit_card['BILL_AMT5'] - credit_card['PAY_AMT4'])) +\n",
    "                 (credit_card['BILL_AMT3'] - (credit_card['BILL_AMT4'] - credit_card['PAY_AMT3'])) +\n",
    "                 (credit_card['BILL_AMT2'] - (credit_card['BILL_AMT3'] - credit_card['PAY_AMT2'])) +\n",
    "                 (credit_card['BILL_AMT1'] - (credit_card['BILL_AMT2'] - credit_card['PAY_AMT1']))) / 5) / credit_card['LIMIT_BAL']\n",
    "credit_card[['LIMIT_BAL', 'Avg_exp_5', 'BILL_AMT5', 'Avg_exp_4', 'BILL_AMT4','Avg_exp_3', 'BILL_AMT3',\n",
    "    'Avg_exp_2', 'BILL_AMT2', 'Avg_exp_1', 'BILL_AMT1', 'DEFAULT']].sample(3)"
   ]
  },
  {
   "cell_type": "markdown",
   "metadata": {},
   "source": [
    "how far the bill is from the limit should matter, thus I will create that variable. Since the result can vary a lot from one client to the other (the LIMIT_BAL variable has a very wide range), I will again weight this difference on the LIMIT_BAL feature . Again, I want to keep the historical trend of the variable"
   ]
  },
  {
   "cell_type": "code",
   "execution_count": 14,
   "metadata": {},
   "outputs": [
    {
     "data": {
      "text/html": [
       "<div>\n",
       "<style scoped>\n",
       "    .dataframe tbody tr th:only-of-type {\n",
       "        vertical-align: middle;\n",
       "    }\n",
       "\n",
       "    .dataframe tbody tr th {\n",
       "        vertical-align: top;\n",
       "    }\n",
       "\n",
       "    .dataframe thead th {\n",
       "        text-align: right;\n",
       "    }\n",
       "</style>\n",
       "<table border=\"1\" class=\"dataframe\">\n",
       "  <thead>\n",
       "    <tr style=\"text-align: right;\">\n",
       "      <th></th>\n",
       "      <th>ID</th>\n",
       "      <th>LIMIT_BAL</th>\n",
       "      <th>SEX</th>\n",
       "      <th>EDUCATION</th>\n",
       "      <th>MARRIAGE</th>\n",
       "      <th>AGE</th>\n",
       "      <th>PAY_1</th>\n",
       "      <th>PAY_2</th>\n",
       "      <th>PAY_3</th>\n",
       "      <th>PAY_4</th>\n",
       "      <th>...</th>\n",
       "      <th>PAY_AMT3</th>\n",
       "      <th>PAY_AMT4</th>\n",
       "      <th>PAY_AMT5</th>\n",
       "      <th>PAY_AMT6</th>\n",
       "      <th>DEFAULT</th>\n",
       "      <th>Avg_exp_5</th>\n",
       "      <th>Avg_exp_4</th>\n",
       "      <th>Avg_exp_3</th>\n",
       "      <th>Avg_exp_2</th>\n",
       "      <th>Avg_exp_1</th>\n",
       "    </tr>\n",
       "  </thead>\n",
       "  <tbody>\n",
       "    <tr>\n",
       "      <th>0</th>\n",
       "      <td>1</td>\n",
       "      <td>20000.0</td>\n",
       "      <td>2</td>\n",
       "      <td>2</td>\n",
       "      <td>1</td>\n",
       "      <td>24</td>\n",
       "      <td>2</td>\n",
       "      <td>2</td>\n",
       "      <td>-1</td>\n",
       "      <td>-1</td>\n",
       "      <td>...</td>\n",
       "      <td>0.0</td>\n",
       "      <td>0.0</td>\n",
       "      <td>0.0</td>\n",
       "      <td>0.0</td>\n",
       "      <td>1</td>\n",
       "      <td>0.000000</td>\n",
       "      <td>0.000000</td>\n",
       "      <td>0.011483</td>\n",
       "      <td>0.047387</td>\n",
       "      <td>0.046020</td>\n",
       "    </tr>\n",
       "    <tr>\n",
       "      <th>1</th>\n",
       "      <td>2</td>\n",
       "      <td>120000.0</td>\n",
       "      <td>2</td>\n",
       "      <td>2</td>\n",
       "      <td>2</td>\n",
       "      <td>26</td>\n",
       "      <td>-1</td>\n",
       "      <td>2</td>\n",
       "      <td>0</td>\n",
       "      <td>0</td>\n",
       "      <td>...</td>\n",
       "      <td>1000.0</td>\n",
       "      <td>1000.0</td>\n",
       "      <td>0.0</td>\n",
       "      <td>2000.0</td>\n",
       "      <td>1</td>\n",
       "      <td>0.001617</td>\n",
       "      <td>0.004213</td>\n",
       "      <td>0.003947</td>\n",
       "      <td>0.003050</td>\n",
       "      <td>0.004035</td>\n",
       "    </tr>\n",
       "    <tr>\n",
       "      <th>2</th>\n",
       "      <td>3</td>\n",
       "      <td>90000.0</td>\n",
       "      <td>2</td>\n",
       "      <td>2</td>\n",
       "      <td>2</td>\n",
       "      <td>34</td>\n",
       "      <td>0</td>\n",
       "      <td>0</td>\n",
       "      <td>0</td>\n",
       "      <td>0</td>\n",
       "      <td>...</td>\n",
       "      <td>1000.0</td>\n",
       "      <td>1000.0</td>\n",
       "      <td>1000.0</td>\n",
       "      <td>5000.0</td>\n",
       "      <td>0</td>\n",
       "      <td>0.004433</td>\n",
       "      <td>0.004344</td>\n",
       "      <td>0.003741</td>\n",
       "      <td>0.008272</td>\n",
       "      <td>0.043796</td>\n",
       "    </tr>\n",
       "    <tr>\n",
       "      <th>3</th>\n",
       "      <td>4</td>\n",
       "      <td>50000.0</td>\n",
       "      <td>2</td>\n",
       "      <td>2</td>\n",
       "      <td>1</td>\n",
       "      <td>37</td>\n",
       "      <td>0</td>\n",
       "      <td>0</td>\n",
       "      <td>0</td>\n",
       "      <td>0</td>\n",
       "      <td>...</td>\n",
       "      <td>1200.0</td>\n",
       "      <td>1100.0</td>\n",
       "      <td>1069.0</td>\n",
       "      <td>1000.0</td>\n",
       "      <td>0</td>\n",
       "      <td>0.009620</td>\n",
       "      <td>0.009360</td>\n",
       "      <td>0.154087</td>\n",
       "      <td>0.120370</td>\n",
       "      <td>0.099324</td>\n",
       "    </tr>\n",
       "    <tr>\n",
       "      <th>4</th>\n",
       "      <td>5</td>\n",
       "      <td>50000.0</td>\n",
       "      <td>1</td>\n",
       "      <td>2</td>\n",
       "      <td>1</td>\n",
       "      <td>57</td>\n",
       "      <td>-1</td>\n",
       "      <td>0</td>\n",
       "      <td>-1</td>\n",
       "      <td>0</td>\n",
       "      <td>...</td>\n",
       "      <td>10000.0</td>\n",
       "      <td>9000.0</td>\n",
       "      <td>689.0</td>\n",
       "      <td>679.0</td>\n",
       "      <td>0</td>\n",
       "      <td>0.014080</td>\n",
       "      <td>0.114980</td>\n",
       "      <td>0.242620</td>\n",
       "      <td>0.214545</td>\n",
       "      <td>0.191424</td>\n",
       "    </tr>\n",
       "  </tbody>\n",
       "</table>\n",
       "<p>5 rows × 30 columns</p>\n",
       "</div>"
      ],
      "text/plain": [
       "   ID  LIMIT_BAL  SEX  EDUCATION  MARRIAGE  AGE  PAY_1  PAY_2  PAY_3  PAY_4  \\\n",
       "0   1    20000.0    2          2         1   24      2      2     -1     -1   \n",
       "1   2   120000.0    2          2         2   26     -1      2      0      0   \n",
       "2   3    90000.0    2          2         2   34      0      0      0      0   \n",
       "3   4    50000.0    2          2         1   37      0      0      0      0   \n",
       "4   5    50000.0    1          2         1   57     -1      0     -1      0   \n",
       "\n",
       "   ...  PAY_AMT3  PAY_AMT4  PAY_AMT5  PAY_AMT6  DEFAULT  Avg_exp_5  Avg_exp_4  \\\n",
       "0  ...       0.0       0.0       0.0       0.0        1   0.000000   0.000000   \n",
       "1  ...    1000.0    1000.0       0.0    2000.0        1   0.001617   0.004213   \n",
       "2  ...    1000.0    1000.0    1000.0    5000.0        0   0.004433   0.004344   \n",
       "3  ...    1200.0    1100.0    1069.0    1000.0        0   0.009620   0.009360   \n",
       "4  ...   10000.0    9000.0     689.0     679.0        0   0.014080   0.114980   \n",
       "\n",
       "   Avg_exp_3  Avg_exp_2  Avg_exp_1  \n",
       "0   0.011483   0.047387   0.046020  \n",
       "1   0.003947   0.003050   0.004035  \n",
       "2   0.003741   0.008272   0.043796  \n",
       "3   0.154087   0.120370   0.099324  \n",
       "4   0.242620   0.214545   0.191424  \n",
       "\n",
       "[5 rows x 30 columns]"
      ]
     },
     "execution_count": 14,
     "metadata": {},
     "output_type": "execute_result"
    }
   ],
   "source": [
    "credit_card.head()"
   ]
  },
  {
   "cell_type": "code",
   "execution_count": 12,
   "metadata": {},
   "outputs": [
    {
     "data": {
      "text/html": [
       "<div>\n",
       "<style scoped>\n",
       "    .dataframe tbody tr th:only-of-type {\n",
       "        vertical-align: middle;\n",
       "    }\n",
       "\n",
       "    .dataframe tbody tr th {\n",
       "        vertical-align: top;\n",
       "    }\n",
       "\n",
       "    .dataframe thead th {\n",
       "        text-align: right;\n",
       "    }\n",
       "</style>\n",
       "<table border=\"1\" class=\"dataframe\">\n",
       "  <thead>\n",
       "    <tr style=\"text-align: right;\">\n",
       "      <th></th>\n",
       "      <th>Closeness_6</th>\n",
       "      <th>Closeness_5</th>\n",
       "      <th>Closeness_4</th>\n",
       "      <th>Closeness_3</th>\n",
       "      <th>Closeness_2</th>\n",
       "      <th>Closeness_1</th>\n",
       "      <th>DEFAULT</th>\n",
       "    </tr>\n",
       "  </thead>\n",
       "  <tbody>\n",
       "    <tr>\n",
       "      <th>18080</th>\n",
       "      <td>0.731235</td>\n",
       "      <td>0.714365</td>\n",
       "      <td>0.669006</td>\n",
       "      <td>0.665747</td>\n",
       "      <td>0.673524</td>\n",
       "      <td>0.680018</td>\n",
       "      <td>0</td>\n",
       "    </tr>\n",
       "    <tr>\n",
       "      <th>23024</th>\n",
       "      <td>0.335280</td>\n",
       "      <td>0.325970</td>\n",
       "      <td>0.305180</td>\n",
       "      <td>0.299966</td>\n",
       "      <td>0.294260</td>\n",
       "      <td>0.294028</td>\n",
       "      <td>0</td>\n",
       "    </tr>\n",
       "    <tr>\n",
       "      <th>17366</th>\n",
       "      <td>0.898267</td>\n",
       "      <td>0.905233</td>\n",
       "      <td>0.898667</td>\n",
       "      <td>0.940833</td>\n",
       "      <td>0.975300</td>\n",
       "      <td>1.000000</td>\n",
       "      <td>0</td>\n",
       "    </tr>\n",
       "  </tbody>\n",
       "</table>\n",
       "</div>"
      ],
      "text/plain": [
       "       Closeness_6  Closeness_5  Closeness_4  Closeness_3  Closeness_2  \\\n",
       "18080     0.731235     0.714365     0.669006     0.665747     0.673524   \n",
       "23024     0.335280     0.325970     0.305180     0.299966     0.294260   \n",
       "17366     0.898267     0.905233     0.898667     0.940833     0.975300   \n",
       "\n",
       "       Closeness_1  DEFAULT  \n",
       "18080     0.680018        0  \n",
       "23024     0.294028        0  \n",
       "17366     1.000000        0  "
      ]
     },
     "execution_count": 12,
     "metadata": {},
     "output_type": "execute_result"
    }
   ],
   "source": [
    "credit_card['Closeness_6'] = (credit_card.LIMIT_BAL - credit_card.BILL_AMT6) / credit_card.LIMIT_BAL\n",
    "credit_card['Closeness_5'] = (credit_card.LIMIT_BAL - credit_card.BILL_AMT5) / credit_card.LIMIT_BAL\n",
    "credit_card['Closeness_4'] = (credit_card.LIMIT_BAL - credit_card.BILL_AMT4) / credit_card.LIMIT_BAL\n",
    "credit_card['Closeness_3'] = (credit_card.LIMIT_BAL - credit_card.BILL_AMT3) / credit_card.LIMIT_BAL\n",
    "credit_card['Closeness_2'] = (credit_card.LIMIT_BAL - credit_card.BILL_AMT2) / credit_card.LIMIT_BAL\n",
    "credit_card['Closeness_1'] = (credit_card.LIMIT_BAL - credit_card.BILL_AMT1) / credit_card.LIMIT_BAL\n",
    "credit_card[['Closeness_6', 'Closeness_5', 'Closeness_4', 'Closeness_3', 'Closeness_2',\n",
    "   'Closeness_1', 'DEFAULT']].sample(3)"
   ]
  },
  {
   "cell_type": "code",
   "execution_count": 13,
   "metadata": {},
   "outputs": [
    {
     "data": {
      "text/html": [
       "<div>\n",
       "<style scoped>\n",
       "    .dataframe tbody tr th:only-of-type {\n",
       "        vertical-align: middle;\n",
       "    }\n",
       "\n",
       "    .dataframe tbody tr th {\n",
       "        vertical-align: top;\n",
       "    }\n",
       "\n",
       "    .dataframe thead th {\n",
       "        text-align: right;\n",
       "    }\n",
       "</style>\n",
       "<table border=\"1\" class=\"dataframe\">\n",
       "  <thead>\n",
       "    <tr style=\"text-align: right;\">\n",
       "      <th></th>\n",
       "      <th>ID</th>\n",
       "      <th>LIMIT_BAL</th>\n",
       "      <th>SEX</th>\n",
       "      <th>EDUCATION</th>\n",
       "      <th>MARRIAGE</th>\n",
       "      <th>AGE</th>\n",
       "      <th>PAY_1</th>\n",
       "      <th>PAY_2</th>\n",
       "      <th>PAY_3</th>\n",
       "      <th>PAY_4</th>\n",
       "      <th>...</th>\n",
       "      <th>Avg_exp_4</th>\n",
       "      <th>Avg_exp_3</th>\n",
       "      <th>Avg_exp_2</th>\n",
       "      <th>Avg_exp_1</th>\n",
       "      <th>Closeness_6</th>\n",
       "      <th>Closeness_5</th>\n",
       "      <th>Closeness_4</th>\n",
       "      <th>Closeness_3</th>\n",
       "      <th>Closeness_2</th>\n",
       "      <th>Closeness_1</th>\n",
       "    </tr>\n",
       "  </thead>\n",
       "  <tbody>\n",
       "    <tr>\n",
       "      <th>0</th>\n",
       "      <td>1</td>\n",
       "      <td>20000.0</td>\n",
       "      <td>2</td>\n",
       "      <td>2</td>\n",
       "      <td>1</td>\n",
       "      <td>24</td>\n",
       "      <td>2</td>\n",
       "      <td>2</td>\n",
       "      <td>-1</td>\n",
       "      <td>-1</td>\n",
       "      <td>...</td>\n",
       "      <td>0.000000</td>\n",
       "      <td>0.011483</td>\n",
       "      <td>0.047387</td>\n",
       "      <td>0.046020</td>\n",
       "      <td>1.000000</td>\n",
       "      <td>1.000000</td>\n",
       "      <td>1.000000</td>\n",
       "      <td>0.965550</td>\n",
       "      <td>0.844900</td>\n",
       "      <td>0.804350</td>\n",
       "    </tr>\n",
       "    <tr>\n",
       "      <th>1</th>\n",
       "      <td>2</td>\n",
       "      <td>120000.0</td>\n",
       "      <td>2</td>\n",
       "      <td>2</td>\n",
       "      <td>2</td>\n",
       "      <td>26</td>\n",
       "      <td>-1</td>\n",
       "      <td>2</td>\n",
       "      <td>0</td>\n",
       "      <td>0</td>\n",
       "      <td>...</td>\n",
       "      <td>0.004213</td>\n",
       "      <td>0.003947</td>\n",
       "      <td>0.003050</td>\n",
       "      <td>0.004035</td>\n",
       "      <td>0.972825</td>\n",
       "      <td>0.971208</td>\n",
       "      <td>0.972733</td>\n",
       "      <td>0.977650</td>\n",
       "      <td>0.985625</td>\n",
       "      <td>0.977650</td>\n",
       "    </tr>\n",
       "    <tr>\n",
       "      <th>2</th>\n",
       "      <td>3</td>\n",
       "      <td>90000.0</td>\n",
       "      <td>2</td>\n",
       "      <td>2</td>\n",
       "      <td>2</td>\n",
       "      <td>34</td>\n",
       "      <td>0</td>\n",
       "      <td>0</td>\n",
       "      <td>0</td>\n",
       "      <td>0</td>\n",
       "      <td>...</td>\n",
       "      <td>0.004344</td>\n",
       "      <td>0.003741</td>\n",
       "      <td>0.008272</td>\n",
       "      <td>0.043796</td>\n",
       "      <td>0.827233</td>\n",
       "      <td>0.833911</td>\n",
       "      <td>0.840767</td>\n",
       "      <td>0.849344</td>\n",
       "      <td>0.844144</td>\n",
       "      <td>0.675122</td>\n",
       "    </tr>\n",
       "    <tr>\n",
       "      <th>3</th>\n",
       "      <td>4</td>\n",
       "      <td>50000.0</td>\n",
       "      <td>2</td>\n",
       "      <td>2</td>\n",
       "      <td>1</td>\n",
       "      <td>37</td>\n",
       "      <td>0</td>\n",
       "      <td>0</td>\n",
       "      <td>0</td>\n",
       "      <td>0</td>\n",
       "      <td>...</td>\n",
       "      <td>0.009360</td>\n",
       "      <td>0.154087</td>\n",
       "      <td>0.120370</td>\n",
       "      <td>0.099324</td>\n",
       "      <td>0.409060</td>\n",
       "      <td>0.420820</td>\n",
       "      <td>0.433720</td>\n",
       "      <td>0.014180</td>\n",
       "      <td>0.035340</td>\n",
       "      <td>0.060200</td>\n",
       "    </tr>\n",
       "    <tr>\n",
       "      <th>4</th>\n",
       "      <td>5</td>\n",
       "      <td>50000.0</td>\n",
       "      <td>1</td>\n",
       "      <td>2</td>\n",
       "      <td>1</td>\n",
       "      <td>57</td>\n",
       "      <td>-1</td>\n",
       "      <td>0</td>\n",
       "      <td>-1</td>\n",
       "      <td>0</td>\n",
       "      <td>...</td>\n",
       "      <td>0.114980</td>\n",
       "      <td>0.242620</td>\n",
       "      <td>0.214545</td>\n",
       "      <td>0.191424</td>\n",
       "      <td>0.617380</td>\n",
       "      <td>0.617080</td>\n",
       "      <td>0.581200</td>\n",
       "      <td>0.283300</td>\n",
       "      <td>0.886600</td>\n",
       "      <td>0.827660</td>\n",
       "    </tr>\n",
       "  </tbody>\n",
       "</table>\n",
       "<p>5 rows × 36 columns</p>\n",
       "</div>"
      ],
      "text/plain": [
       "   ID  LIMIT_BAL  SEX  EDUCATION  MARRIAGE  AGE  PAY_1  PAY_2  PAY_3  PAY_4  \\\n",
       "0   1    20000.0    2          2         1   24      2      2     -1     -1   \n",
       "1   2   120000.0    2          2         2   26     -1      2      0      0   \n",
       "2   3    90000.0    2          2         2   34      0      0      0      0   \n",
       "3   4    50000.0    2          2         1   37      0      0      0      0   \n",
       "4   5    50000.0    1          2         1   57     -1      0     -1      0   \n",
       "\n",
       "   ...  Avg_exp_4  Avg_exp_3  Avg_exp_2  Avg_exp_1  Closeness_6  Closeness_5  \\\n",
       "0  ...   0.000000   0.011483   0.047387   0.046020     1.000000     1.000000   \n",
       "1  ...   0.004213   0.003947   0.003050   0.004035     0.972825     0.971208   \n",
       "2  ...   0.004344   0.003741   0.008272   0.043796     0.827233     0.833911   \n",
       "3  ...   0.009360   0.154087   0.120370   0.099324     0.409060     0.420820   \n",
       "4  ...   0.114980   0.242620   0.214545   0.191424     0.617380     0.617080   \n",
       "\n",
       "   Closeness_4  Closeness_3  Closeness_2  Closeness_1  \n",
       "0     1.000000     0.965550     0.844900     0.804350  \n",
       "1     0.972733     0.977650     0.985625     0.977650  \n",
       "2     0.840767     0.849344     0.844144     0.675122  \n",
       "3     0.433720     0.014180     0.035340     0.060200  \n",
       "4     0.581200     0.283300     0.886600     0.827660  \n",
       "\n",
       "[5 rows x 36 columns]"
      ]
     },
     "execution_count": 13,
     "metadata": {},
     "output_type": "execute_result"
    }
   ],
   "source": [
    "credit_card.head()"
   ]
  },
  {
   "cell_type": "code",
   "execution_count": 109,
   "metadata": {},
   "outputs": [
    {
     "data": {
      "text/plain": [
       "2    18112\n",
       "1    11888\n",
       "Name: SEX, dtype: int64"
      ]
     },
     "execution_count": 109,
     "metadata": {},
     "output_type": "execute_result"
    }
   ],
   "source": [
    "credit_card.SEX.value_counts()"
   ]
  },
  {
   "cell_type": "code",
   "execution_count": 14,
   "metadata": {},
   "outputs": [
    {
     "name": "stdout",
     "output_type": "stream",
     "text": [
      "<class 'pandas.core.frame.DataFrame'>\n",
      "RangeIndex: 30000 entries, 0 to 29999\n",
      "Data columns (total 36 columns):\n",
      " #   Column       Non-Null Count  Dtype  \n",
      "---  ------       --------------  -----  \n",
      " 0   ID           30000 non-null  int64  \n",
      " 1   LIMIT_BAL    30000 non-null  float64\n",
      " 2   SEX          30000 non-null  int64  \n",
      " 3   EDUCATION    30000 non-null  int64  \n",
      " 4   MARRIAGE     30000 non-null  int64  \n",
      " 5   AGE          30000 non-null  int64  \n",
      " 6   PAY_1        30000 non-null  int64  \n",
      " 7   PAY_2        30000 non-null  int64  \n",
      " 8   PAY_3        30000 non-null  int64  \n",
      " 9   PAY_4        30000 non-null  int64  \n",
      " 10  PAY_5        30000 non-null  int64  \n",
      " 11  PAY_6        30000 non-null  int64  \n",
      " 12  BILL_AMT1    30000 non-null  float64\n",
      " 13  BILL_AMT2    30000 non-null  float64\n",
      " 14  BILL_AMT3    30000 non-null  float64\n",
      " 15  BILL_AMT4    30000 non-null  float64\n",
      " 16  BILL_AMT5    30000 non-null  float64\n",
      " 17  BILL_AMT6    30000 non-null  float64\n",
      " 18  PAY_AMT1     30000 non-null  float64\n",
      " 19  PAY_AMT2     30000 non-null  float64\n",
      " 20  PAY_AMT3     30000 non-null  float64\n",
      " 21  PAY_AMT4     30000 non-null  float64\n",
      " 22  PAY_AMT5     30000 non-null  float64\n",
      " 23  PAY_AMT6     30000 non-null  float64\n",
      " 24  DEFAULT      30000 non-null  int64  \n",
      " 25  Avg_exp_5    30000 non-null  float64\n",
      " 26  Avg_exp_4    30000 non-null  float64\n",
      " 27  Avg_exp_3    30000 non-null  float64\n",
      " 28  Avg_exp_2    30000 non-null  float64\n",
      " 29  Avg_exp_1    30000 non-null  float64\n",
      " 30  Closeness_6  30000 non-null  float64\n",
      " 31  Closeness_5  30000 non-null  float64\n",
      " 32  Closeness_4  30000 non-null  float64\n",
      " 33  Closeness_3  30000 non-null  float64\n",
      " 34  Closeness_2  30000 non-null  float64\n",
      " 35  Closeness_1  30000 non-null  float64\n",
      "dtypes: float64(24), int64(12)\n",
      "memory usage: 8.2 MB\n"
     ]
    }
   ],
   "source": [
    "credit_card.info()"
   ]
  },
  {
   "cell_type": "code",
   "execution_count": 15,
   "metadata": {},
   "outputs": [],
   "source": [
    "credit_card=credit_card[[c for c in credit_card if c not in ['DEFAULT']] \n",
    "       + ['DEFAULT']]"
   ]
  },
  {
   "cell_type": "code",
   "execution_count": 12,
   "metadata": {},
   "outputs": [
    {
     "name": "stdout",
     "output_type": "stream",
     "text": [
      "<class 'pandas.core.frame.DataFrame'>\n",
      "RangeIndex: 30000 entries, 0 to 29999\n",
      "Data columns (total 25 columns):\n",
      " #   Column     Non-Null Count  Dtype  \n",
      "---  ------     --------------  -----  \n",
      " 0   ID         30000 non-null  int64  \n",
      " 1   LIMIT_BAL  30000 non-null  float64\n",
      " 2   SEX        30000 non-null  int64  \n",
      " 3   EDUCATION  30000 non-null  int64  \n",
      " 4   MARRIAGE   30000 non-null  int64  \n",
      " 5   AGE        30000 non-null  int64  \n",
      " 6   PAY_1      30000 non-null  int64  \n",
      " 7   PAY_2      30000 non-null  int64  \n",
      " 8   PAY_3      30000 non-null  int64  \n",
      " 9   PAY_4      30000 non-null  int64  \n",
      " 10  PAY_5      30000 non-null  int64  \n",
      " 11  PAY_6      30000 non-null  int64  \n",
      " 12  BILL_AMT1  30000 non-null  float64\n",
      " 13  BILL_AMT2  30000 non-null  float64\n",
      " 14  BILL_AMT3  30000 non-null  float64\n",
      " 15  BILL_AMT4  30000 non-null  float64\n",
      " 16  BILL_AMT5  30000 non-null  float64\n",
      " 17  BILL_AMT6  30000 non-null  float64\n",
      " 18  PAY_AMT1   30000 non-null  float64\n",
      " 19  PAY_AMT2   30000 non-null  float64\n",
      " 20  PAY_AMT3   30000 non-null  float64\n",
      " 21  PAY_AMT4   30000 non-null  float64\n",
      " 22  PAY_AMT5   30000 non-null  float64\n",
      " 23  PAY_AMT6   30000 non-null  float64\n",
      " 24  DEFAULT    30000 non-null  int64  \n",
      "dtypes: float64(13), int64(12)\n",
      "memory usage: 5.7 MB\n"
     ]
    }
   ],
   "source": [
    "credit_card.info()"
   ]
  },
  {
   "cell_type": "markdown",
   "metadata": {},
   "source": [
    "# outliers and its treatment"
   ]
  },
  {
   "cell_type": "code",
   "execution_count": 74,
   "metadata": {},
   "outputs": [
    {
     "data": {
      "image/png": "[encoded data removed]",
      "text/plain": [
       "<Figure size 576x396 with 1 Axes>"
      ]
     },
     "metadata": {},
     "output_type": "display_data"
    }
   ],
   "source": [
    "fig, ax = plt.subplots()\n",
    "credit_card.boxplot()\n",
    "ax.set_xlim(-0.5, 30)\n",
    "fig.autofmt_xdate()\n",
    "plt.show()\n",
    "    "
   ]
  },
  {
   "cell_type": "code",
   "execution_count": 17,
   "metadata": {},
   "outputs": [],
   "source": [
    "from sklearn.model_selection import train_test_split\n",
    "X = credit_card.iloc[:, 1:-1]\n",
    "y = credit_card.iloc[:,-1]\n",
    "\n",
    "X_train, X_test, y_train, y_test = train_test_split(X, y, test_size=.3, random_state=123)"
   ]
  },
  {
   "cell_type": "code",
   "execution_count": 45,
   "metadata": {},
   "outputs": [
    {
     "name": "stdout",
     "output_type": "stream",
     "text": [
      "                 Generalized Linear Model Regression Results                  \n",
      "==============================================================================\n",
      "Dep. Variable:                DEFAULT   No. Observations:                21000\n",
      "Model:                            GLM   Df Residuals:                    20977\n",
      "Model Family:                Binomial   Df Model:                           22\n",
      "Link Function:                  logit   Scale:                          1.0000\n",
      "Method:                          IRLS   Log-Likelihood:                -9799.5\n",
      "Date:                Tue, 30 Jun 2020   Deviance:                       19599.\n",
      "Time:                        03:40:42   Pearson chi2:                 2.51e+04\n",
      "No. Iterations:                     7                                         \n",
      "Covariance Type:            nonrobust                                         \n",
      "==============================================================================\n",
      "                 coef    std err          z      P>|z|      [0.025      0.975]\n",
      "------------------------------------------------------------------------------\n",
      "LIMIT_BAL  -6.203e-07   1.83e-07     -3.392      0.001   -9.79e-07   -2.62e-07\n",
      "SEX           -0.2129      0.032     -6.713      0.000      -0.275      -0.151\n",
      "EDUCATION     -0.1304      0.025     -5.221      0.000      -0.179      -0.081\n",
      "MARRIAGE      -0.2653      0.027     -9.745      0.000      -0.319      -0.212\n",
      "AGE         4.871e-05      0.002      0.030      0.976      -0.003       0.003\n",
      "PAY_1          0.5675      0.021     26.905      0.000       0.526       0.609\n",
      "PAY_2          0.0712      0.024      2.930      0.003       0.024       0.119\n",
      "PAY_3          0.0947      0.027      3.496      0.000       0.042       0.148\n",
      "PAY_4          0.0017      0.030      0.057      0.954      -0.057       0.060\n",
      "PAY_5          0.0357      0.032      1.123      0.262      -0.027       0.098\n",
      "PAY_6          0.0402      0.026      1.523      0.128      -0.012       0.092\n",
      "BILL_AMT1  -5.807e-06   1.38e-06     -4.196      0.000   -8.52e-06   -3.09e-06\n",
      "BILL_AMT2   2.203e-06   1.84e-06      1.195      0.232   -1.41e-06    5.81e-06\n",
      "BILL_AMT3   9.659e-07   1.63e-06      0.593      0.553   -2.23e-06    4.16e-06\n",
      "BILL_AMT4   1.466e-07   1.66e-06      0.088      0.930   -3.11e-06     3.4e-06\n",
      "BILL_AMT5   1.364e-06   1.76e-06      0.777      0.437   -2.08e-06    4.81e-06\n",
      "BILL_AMT6   1.893e-07   1.38e-06      0.137      0.891   -2.52e-06     2.9e-06\n",
      "PAY_AMT1   -1.398e-05   2.79e-06     -5.017      0.000   -1.94e-05   -8.52e-06\n",
      "PAY_AMT2   -8.961e-06   2.45e-06     -3.654      0.000   -1.38e-05   -4.15e-06\n",
      "PAY_AMT3   -6.716e-06   2.31e-06     -2.911      0.004   -1.12e-05   -2.19e-06\n",
      "PAY_AMT4   -7.433e-06   2.39e-06     -3.116      0.002   -1.21e-05   -2.76e-06\n",
      "PAY_AMT5   -1.395e-06   1.94e-06     -0.718      0.473    -5.2e-06    2.41e-06\n",
      "PAY_AMT6   -2.788e-06    1.6e-06     -1.741      0.082   -5.93e-06    3.51e-07\n",
      "==============================================================================\n"
     ]
    }
   ],
   "source": [
    "#before Feature engineering\n",
    "from statsmodels.genmod.generalized_linear_model import GLM\n",
    "from statsmodels.genmod import families\n",
    "res = GLM(y_train, X_train,\n",
    "          family=families.Binomial()).fit(attach_wls=True, atol=1e-10)\n",
    "print(res.summary())"
   ]
  },
  {
   "cell_type": "code",
   "execution_count": 26,
   "metadata": {},
   "outputs": [
    {
     "name": "stdout",
     "output_type": "stream",
     "text": [
      "                 Generalized Linear Model Regression Results                  \n",
      "==============================================================================\n",
      "Dep. Variable:                DEFAULT   No. Observations:                21000\n",
      "Model:                            GLM   Df Residuals:                    20966\n",
      "Model Family:                Binomial   Df Model:                           33\n",
      "Link Function:                  logit   Scale:                          1.0000\n",
      "Method:                          IRLS   Log-Likelihood:                -9773.5\n",
      "Date:                Wed, 01 Jul 2020   Deviance:                       19547.\n",
      "Time:                        20:56:37   Pearson chi2:                 2.47e+04\n",
      "No. Iterations:                     7                                         \n",
      "Covariance Type:            nonrobust                                         \n",
      "===============================================================================\n",
      "                  coef    std err          z      P>|z|      [0.025      0.975]\n",
      "-------------------------------------------------------------------------------\n",
      "LIMIT_BAL   -1.336e-06    2.5e-07     -5.350      0.000   -1.83e-06   -8.47e-07\n",
      "SEX            -0.2255      0.033     -6.896      0.000      -0.290      -0.161\n",
      "EDUCATION      -0.1232      0.025     -4.881      0.000      -0.173      -0.074\n",
      "MARRIAGE       -0.2600      0.030     -8.704      0.000      -0.319      -0.201\n",
      "AGE             0.0003      0.002      0.185      0.853      -0.003       0.004\n",
      "PAY_1           0.5643      0.021     26.836      0.000       0.523       0.605\n",
      "PAY_2           0.0956      0.025      3.872      0.000       0.047       0.144\n",
      "PAY_3           0.0756      0.028      2.730      0.006       0.021       0.130\n",
      "PAY_4           0.0102      0.031      0.334      0.738      -0.050       0.070\n",
      "PAY_5           0.0345      0.032      1.068      0.286      -0.029       0.098\n",
      "PAY_6           0.0269      0.027      0.996      0.319      -0.026       0.080\n",
      "BILL_AMT1   -1.519e-06   1.92e-06     -0.790      0.430   -5.29e-06    2.25e-06\n",
      "BILL_AMT2    1.455e-06   2.52e-06      0.577      0.564   -3.49e-06     6.4e-06\n",
      "BILL_AMT3   -2.613e-07   2.25e-06     -0.116      0.908   -4.68e-06    4.15e-06\n",
      "BILL_AMT4   -1.924e-07    2.3e-06     -0.084      0.933    -4.7e-06    4.32e-06\n",
      "BILL_AMT5    2.503e-06   2.28e-06      1.097      0.273   -1.97e-06    6.98e-06\n",
      "BILL_AMT6   -2.352e-06   1.72e-06     -1.364      0.173   -5.73e-06    1.03e-06\n",
      "PAY_AMT1    -1.793e-05   4.01e-06     -4.476      0.000   -2.58e-05   -1.01e-05\n",
      "PAY_AMT2    -2.163e-06   3.12e-06     -0.693      0.489   -8.28e-06    3.96e-06\n",
      "PAY_AMT3    -6.607e-06   3.14e-06     -2.107      0.035   -1.28e-05    -4.6e-07\n",
      "PAY_AMT4     -8.48e-06   3.16e-06     -2.687      0.007   -1.47e-05   -2.29e-06\n",
      "PAY_AMT5     3.133e-06   2.59e-06      1.210      0.226   -1.94e-06    8.21e-06\n",
      "PAY_AMT6    -3.007e-06   1.58e-06     -1.899      0.058   -6.11e-06    9.67e-08\n",
      "Avg_exp_5      -1.1198      0.495     -2.261      0.024      -2.090      -0.149\n",
      "Avg_exp_4       0.3510      0.939      0.374      0.709      -1.490       2.192\n",
      "Avg_exp_3       3.4882      1.635      2.134      0.033       0.285       6.692\n",
      "Avg_exp_2      -6.2313      2.320     -2.686      0.007     -10.779      -1.684\n",
      "Avg_exp_1       2.1974      1.820      1.208      0.227      -1.369       5.764\n",
      "Closeness_6     0.4846      0.356      1.361      0.173      -0.213       1.183\n",
      "Closeness_5    -0.8857      0.456     -1.944      0.052      -1.779       0.007\n",
      "Closeness_4     0.1037      0.418      0.248      0.804      -0.715       0.922\n",
      "Closeness_3     0.9657      0.496      1.946      0.052      -0.007       1.938\n",
      "Closeness_2    -1.6831      0.510     -3.301      0.001      -2.682      -0.684\n",
      "Closeness_1     1.1883      0.331      3.590      0.000       0.539       1.837\n",
      "===============================================================================\n"
     ]
    }
   ],
   "source": [
    "#after feature engineering\n",
    "from statsmodels.genmod.generalized_linear_model import GLM\n",
    "from statsmodels.genmod import families\n",
    "res = GLM(y_train, X_train,\n",
    "          family=families.Binomial()).fit(attach_wls=True, atol=1e-10)\n",
    "print(res.summary())"
   ]
  },
  {
   "cell_type": "code",
   "execution_count": 28,
   "metadata": {},
   "outputs": [
    {
     "name": "stdout",
     "output_type": "stream",
     "text": [
      "Optimization terminated successfully.\n",
      "         Current function value: 0.465403\n",
      "         Iterations 8\n",
      "                         Results: Logit\n",
      "=================================================================\n",
      "Model:              Logit            Pseudo R-squared: 0.123     \n",
      "Dependent Variable: DEFAULT          AIC:              19614.9266\n",
      "Date:               2020-07-01 21:35 BIC:              19885.3040\n",
      "No. Observations:   21000            Log-Likelihood:   -9773.5   \n",
      "Df Model:           33               LL-Null:          -11150.   \n",
      "Df Residuals:       20966            LLR p-value:      0.0000    \n",
      "Converged:          1.0000           Scale:            1.0000    \n",
      "No. Iterations:     8.0000                                       \n",
      "------------------------------------------------------------------\n",
      "              Coef.   Std.Err.     z     P>|z|    [0.025    0.975]\n",
      "------------------------------------------------------------------\n",
      "LIMIT_BAL    -0.0000    0.0000  -5.3496  0.0000   -0.0000  -0.0000\n",
      "SEX          -0.2255    0.0327  -6.8964  0.0000   -0.2896  -0.1614\n",
      "EDUCATION    -0.1232    0.0252  -4.8806  0.0000   -0.1726  -0.0737\n",
      "MARRIAGE     -0.2600    0.0299  -8.7039  0.0000   -0.3186  -0.2015\n",
      "AGE           0.0003    0.0017   0.1847  0.8535   -0.0031   0.0037\n",
      "PAY_1         0.5643    0.0210  26.8358  0.0000    0.5231   0.6055\n",
      "PAY_2         0.0956    0.0247   3.8718  0.0001    0.0472   0.1441\n",
      "PAY_3         0.0756    0.0277   2.7298  0.0063    0.0213   0.1300\n",
      "PAY_4         0.0102    0.0306   0.3340  0.7384   -0.0498   0.0702\n",
      "PAY_5         0.0345    0.0323   1.0680  0.2855   -0.0288   0.0977\n",
      "PAY_6         0.0269    0.0270   0.9959  0.3193   -0.0260   0.0798\n",
      "BILL_AMT1    -0.0000    0.0000  -0.7899  0.4296   -0.0000   0.0000\n",
      "BILL_AMT2     0.0000    0.0000   0.5767  0.5641   -0.0000   0.0000\n",
      "BILL_AMT3    -0.0000    0.0000  -0.1160  0.9077   -0.0000   0.0000\n",
      "BILL_AMT4    -0.0000    0.0000  -0.0836  0.9333   -0.0000   0.0000\n",
      "BILL_AMT5     0.0000    0.0000   1.0967  0.2728   -0.0000   0.0000\n",
      "BILL_AMT6    -0.0000    0.0000  -1.3637  0.1727   -0.0000   0.0000\n",
      "PAY_AMT1     -0.0000    0.0000  -4.4755  0.0000   -0.0000  -0.0000\n",
      "PAY_AMT2     -0.0000    0.0000  -0.6926  0.4886   -0.0000   0.0000\n",
      "PAY_AMT3     -0.0000    0.0000  -2.1067  0.0351   -0.0000  -0.0000\n",
      "PAY_AMT4     -0.0000    0.0000  -2.6869  0.0072   -0.0000  -0.0000\n",
      "PAY_AMT5      0.0000    0.0000   1.2103  0.2262   -0.0000   0.0000\n",
      "PAY_AMT6     -0.0000    0.0000  -1.8989  0.0576   -0.0000   0.0000\n",
      "Avg_exp_5    -1.1198    0.4952  -2.2612  0.0237   -2.0904  -0.1492\n",
      "Avg_exp_4     0.3510    0.9394   0.3736  0.7087   -1.4902   2.1921\n",
      "Avg_exp_3     3.4882    1.6345   2.1341  0.0328    0.2846   6.6918\n",
      "Avg_exp_2    -6.2313    2.3203  -2.6856  0.0072  -10.7790  -1.6836\n",
      "Avg_exp_1     2.1974    1.8198   1.2075  0.2272   -1.3692   5.7641\n",
      "Closeness_6   0.4846    0.3561   1.3611  0.1735   -0.2132   1.1825\n",
      "Closeness_5  -0.8857    0.4556  -1.9439  0.0519   -1.7787   0.0073\n",
      "Closeness_4   0.1037    0.4175   0.2483  0.8039   -0.7146   0.9220\n",
      "Closeness_3   0.9657    0.4963   1.9458  0.0517   -0.0070   1.9384\n",
      "Closeness_2  -1.6831    0.5099  -3.3007  0.0010   -2.6825  -0.6837\n",
      "Closeness_1   1.1883    0.3310   3.5897  0.0003    0.5395   1.8371\n",
      "=================================================================\n",
      "\n"
     ]
    }
   ],
   "source": [
    "import statsmodels.api as sm\n",
    "logit_model=sm.Logit(y_train,X_train)\n",
    "result=logit_model.fit()\n",
    "print(result.summary2())"
   ]
  },
  {
   "cell_type": "markdown",
   "metadata": {},
   "source": [
    "# MODELLING"
   ]
  },
  {
   "cell_type": "markdown",
   "metadata": {},
   "source": [
    "This step consists in trying to find the best model which can predict our target value (default credit payment the following month). As we have seen during our EDA, we still need to do some data engineering in order to deal with categorical features and rescale the numerical features. Once the data engineering is done, we will take the following pragmatic approach :\n",
    "\n",
    "Select list of known classification models\n",
    "Run a baseline model for each of our pre-selected models\n",
    "Pick the top models base on a specific score (recall score / f1 score in our case)\n",
    "Tune the hyper-parameters of the top models and watch score increase\n",
    "So below is the list of pre-selected classification models :\n",
    "\n",
    "Logistic Regression\n",
    "Decision Tree\n",
    "Random Forest\n",
    "AdaBoost\n",
    "K Nearest Neighbors\n",
    "XGBoost\n",
    "SVC (Support Vector Classification)\n",
    "In order to compare their performances, we need to define a which scoring metrics we are going to use. As we try to find out if the credit payment status (paid or not paid the following month), it is important to catch as much as possible the ones that are positive (not paid => target value = 1). Or in other words, we will try to minimise the False Positive classifications (paid status predicted when the actual status is not paid). This is exactly the Recall score definition. Also, we want to keep our accuracy high True Negative + True Positive observations. See below a visual definition\n",
    "\n",
    "Precision Recall Definition\n",
    "\n",
    "Recall, Precision and F1-score Formulas:\n",
    "\n",
    "$Recall = \\frac{TP}{TP + FN}$\n",
    "\n",
    "$Precision = \\frac{TP}{TP + FP}$\n",
    "\n",
    "$F1 = 2 * \\frac{Recall * Precision}{Recall + Precision}$"
   ]
  },
  {
   "cell_type": "code",
   "execution_count": 13,
   "metadata": {},
   "outputs": [],
   "source": [
    "# Load utility librairies\n",
    "import pandas as pd\n",
    "import matplotlib.pyplot as plt\n",
    "import seaborn as sns\n",
    "import warnings\n",
    "#from utils import print_metrics, print_confusion_matrix\n",
    "from sklearn.metrics import plot_confusion_matrix\n",
    "from sklearn.metrics import classification_report, recall_score\n",
    "\n",
    "# Load pre-selected models\n",
    "from sklearn.linear_model import LogisticRegression\n",
    "from sklearn.tree import DecisionTreeClassifier\n",
    "from sklearn.ensemble import RandomForestClassifier, AdaBoostClassifier\n",
    "from sklearn.neighbors import KNeighborsClassifier\n",
    "from sklearn.svm import SVC\n",
    "\n",
    "%matplotlib inline\n",
    "warnings.filterwarnings('ignore')\n",
    "\n",
    "%load_ext autoreload\n",
    "%autoreload 2"
   ]
  },
  {
   "cell_type": "code",
   "execution_count": null,
   "metadata": {},
   "outputs": [],
   "source": []
  },
  {
   "cell_type": "markdown",
   "metadata": {},
   "source": [
    "# Evaluate Algorithms: Baseline"
   ]
  },
  {
   "cell_type": "code",
   "execution_count": 14,
   "metadata": {},
   "outputs": [],
   "source": [
    "# Test options and evaluation metric\n",
    "num_folds = 10\n",
    "seed = 7"
   ]
  },
  {
   "cell_type": "markdown",
   "metadata": {},
   "source": [
    "Let's create a baseline of performance on this problem and spot-check a number of di\u000b",
    "erent\n",
    "algorithms. We will select a suite of di\u000b",
    "erent algorithms capable of working on this classi\f",
    "cation\n",
    "problem. The six algorithms selected include:\n",
    "\n",
    " Linear Algorithms: Logistic Regression (LR) and Linear Discriminant Analysis (LDA).\n",
    "\n",
    " Nonlinear Algorithms: Classi\f",
    "cation and Regression Trees (CART), Support Vector\n",
    "Machines (SVM), Gaussian Naive Bayes (NB) and k-Nearest Neighbors (KNN)."
   ]
  },
  {
   "cell_type": "code",
   "execution_count": 15,
   "metadata": {},
   "outputs": [],
   "source": [
    "# Split-out validation dataset\n",
    "array = credit_card.values\n",
    "X = array[:,:-1]\n",
    "Y = array[:,-1]\n",
    "validation_size = 0.20\n",
    "seed = 7\n",
    "X_train, X_validation, Y_train, Y_validation = train_test_split(X, Y,\n",
    "test_size=validation_size, random_state=seed)"
   ]
  },
  {
   "cell_type": "code",
   "execution_count": 16,
   "metadata": {},
   "outputs": [
    {
     "data": {
      "text/plain": [
       "(24000, 24)"
      ]
     },
     "execution_count": 16,
     "metadata": {},
     "output_type": "execute_result"
    }
   ],
   "source": [
    "X_train.shape"
   ]
  },
  {
   "cell_type": "code",
   "execution_count": 17,
   "metadata": {},
   "outputs": [],
   "source": [
    "column_names=['Model', 'Accuracy', 'Precision', 'Recall', 'F1 Score','ROC']\n",
    "model_results = pd.DataFrame(columns = column_names)"
   ]
  },
  {
   "cell_type": "markdown",
   "metadata": {},
   "source": [
    "#### Building Pipeline feature engineering step"
   ]
  },
  {
   "cell_type": "code",
   "execution_count": 18,
   "metadata": {},
   "outputs": [],
   "source": [
    "from sklearn.pipeline import Pipeline, FeatureUnion, make_pipeline\n",
    "from sklearn.preprocessing import OneHotEncoder, StandardScaler\n",
    "from sklearn.base import BaseEstimator, TransformerMixin\n",
    "\n",
    "# Class Columns used to apply features transformation\n",
    "class Columns(BaseEstimator, TransformerMixin):\n",
    "    def __init__(self, names=None):\n",
    "        self.names = names\n",
    "\n",
    "    def fit(self, X, y=None, **fit_params):\n",
    "        return self\n",
    "\n",
    "    def transform(self, X):\n",
    "        return X[self.names]\n",
    "\n",
    "# List of numerical features\n",
    "numeric = [\n",
    "    'LIMIT_BAL',\n",
    "    'AGE',\n",
    "    'BILL_AMT1',\n",
    "    'BILL_AMT2',\n",
    "    'BILL_AMT3',\n",
    "    'BILL_AMT4',\n",
    "    'BILL_AMT5',\n",
    "    'BILL_AMT6',\n",
    "    'PAY_1',\n",
    "    'PAY_2',\n",
    "    'PAY_3',\n",
    "    'PAY_4',\n",
    "    'PAY_5',\n",
    "    'PAY_6',\n",
    "    'PAY_AMT1',\n",
    "    'PAY_AMT2',\n",
    "    'PAY_AMT3',\n",
    "    'PAY_AMT4',\n",
    "    'PAY_AMT5',\n",
    "    'PAY_AMT6'\n",
    "]\n",
    "\n",
    "# List of categorical features\n",
    "categorical = ['SEX', 'EDUCATION', 'MARRIAGE']\n",
    "\n",
    "# Build feature engineering pipeline step\n",
    "features = FeatureUnion([\n",
    "        ('numeric', make_pipeline(Columns(names=numeric),StandardScaler())),\n",
    "        ('categorical', make_pipeline(Columns(names=categorical),OneHotEncoder(sparse=False)))\n",
    "    ])\n"
   ]
  },
  {
   "cell_type": "markdown",
   "metadata": {},
   "source": [
    "## Building Pipeline Modeling Step"
   ]
  },
  {
   "cell_type": "code",
   "execution_count": 19,
   "metadata": {},
   "outputs": [],
   "source": [
    "results = []\n",
    "names = []\n",
    "tested_models = {\n",
    "    'lr': LogisticRegression(),\n",
    "    'knn_clf': KNeighborsClassifier(),\n",
    "    'DecisionTree': DecisionTreeClassifier(),\n",
    "    'NB': GaussianNB(),\n",
    "    'svm_clf': SVC()\n",
    "}\n",
    "\n",
    "column_names=['Model', 'Accuracy', 'Precision', 'Recall', 'F1 Score','ROC']\n",
    "model_results = pd.DataFrame(columns = column_names)\n",
    "\n",
    "for model in tested_models:\n",
    "    pipe = Pipeline([\n",
    "        (\"features\", features),\n",
    "        ('model', tested_models[model])\n",
    "    ])\n",
    "    kfold = KFold(n_splits=num_folds, random_state=seed)\n",
    "    skf = StratifiedKFold(n_splits=num_folds, random_state=seed)\n",
    "    \n",
    "    cv_results = cross_validate(tested_models[model], X_train, Y_train, cv=skf,\n",
    "                        scoring=('accuracy', 'precision', 'recall','f1','roc_auc'), return_train_score=False)\n",
    "    results.append(cv_results)\n",
    "    names.append(model)\n",
    "    \n",
    "    modeldf =  pd.DataFrame([[model,cv_results['test_accuracy'].mean(),cv_results['test_precision'].mean(),cv_results['test_recall'].mean(),cv_results['test_f1'].mean(),cv_results['test_roc_auc'].mean()]],\n",
    "    columns = ['Model', 'Accuracy', 'Precision', 'Recall', 'F1 Score','ROC'])\n",
    "    model_results = model_results.append(modeldf, ignore_index = True)"
   ]
  },
  {
   "cell_type": "code",
   "execution_count": 20,
   "metadata": {},
   "outputs": [
    {
     "data": {
      "text/plain": [
       "(24000, 24)"
      ]
     },
     "execution_count": 20,
     "metadata": {},
     "output_type": "execute_result"
    }
   ],
   "source": [
    "X_train.shape"
   ]
  },
  {
   "cell_type": "code",
   "execution_count": 21,
   "metadata": {},
   "outputs": [
    {
     "data": {
      "text/html": [
       "<div>\n",
       "<style scoped>\n",
       "    .dataframe tbody tr th:only-of-type {\n",
       "        vertical-align: middle;\n",
       "    }\n",
       "\n",
       "    .dataframe tbody tr th {\n",
       "        vertical-align: top;\n",
       "    }\n",
       "\n",
       "    .dataframe thead th {\n",
       "        text-align: right;\n",
       "    }\n",
       "</style>\n",
       "<table border=\"1\" class=\"dataframe\">\n",
       "  <thead>\n",
       "    <tr style=\"text-align: right;\">\n",
       "      <th></th>\n",
       "      <th>Model</th>\n",
       "      <th>Accuracy</th>\n",
       "      <th>Precision</th>\n",
       "      <th>Recall</th>\n",
       "      <th>F1 Score</th>\n",
       "      <th>ROC</th>\n",
       "    </tr>\n",
       "  </thead>\n",
       "  <tbody>\n",
       "    <tr>\n",
       "      <th>0</th>\n",
       "      <td>lr</td>\n",
       "      <td>0.777250</td>\n",
       "      <td>0.200000</td>\n",
       "      <td>0.000374</td>\n",
       "      <td>0.000746</td>\n",
       "      <td>0.648759</td>\n",
       "    </tr>\n",
       "    <tr>\n",
       "      <th>1</th>\n",
       "      <td>knn_clf</td>\n",
       "      <td>0.743417</td>\n",
       "      <td>0.346498</td>\n",
       "      <td>0.173022</td>\n",
       "      <td>0.230422</td>\n",
       "      <td>0.594068</td>\n",
       "    </tr>\n",
       "    <tr>\n",
       "      <th>2</th>\n",
       "      <td>DecisionTree</td>\n",
       "      <td>0.725000</td>\n",
       "      <td>0.391156</td>\n",
       "      <td>0.420690</td>\n",
       "      <td>0.405304</td>\n",
       "      <td>0.616451</td>\n",
       "    </tr>\n",
       "    <tr>\n",
       "      <th>3</th>\n",
       "      <td>NB</td>\n",
       "      <td>0.372167</td>\n",
       "      <td>0.247331</td>\n",
       "      <td>0.889828</td>\n",
       "      <td>0.387049</td>\n",
       "      <td>0.671863</td>\n",
       "    </tr>\n",
       "    <tr>\n",
       "      <th>4</th>\n",
       "      <td>svm_clf</td>\n",
       "      <td>0.777250</td>\n",
       "      <td>0.000000</td>\n",
       "      <td>0.000000</td>\n",
       "      <td>0.000000</td>\n",
       "      <td>0.569558</td>\n",
       "    </tr>\n",
       "  </tbody>\n",
       "</table>\n",
       "</div>"
      ],
      "text/plain": [
       "          Model  Accuracy  Precision    Recall  F1 Score       ROC\n",
       "0            lr  0.777250   0.200000  0.000374  0.000746  0.648759\n",
       "1       knn_clf  0.743417   0.346498  0.173022  0.230422  0.594068\n",
       "2  DecisionTree  0.725000   0.391156  0.420690  0.405304  0.616451\n",
       "3            NB  0.372167   0.247331  0.889828  0.387049  0.671863\n",
       "4       svm_clf  0.777250   0.000000  0.000000  0.000000  0.569558"
      ]
     },
     "execution_count": 21,
     "metadata": {},
     "output_type": "execute_result"
    }
   ],
   "source": [
    "model_results"
   ]
  },
  {
   "cell_type": "code",
   "execution_count": 39,
   "metadata": {},
   "outputs": [
    {
     "data": {
      "text/html": [
       "<div>\n",
       "<style scoped>\n",
       "    .dataframe tbody tr th:only-of-type {\n",
       "        vertical-align: middle;\n",
       "    }\n",
       "\n",
       "    .dataframe tbody tr th {\n",
       "        vertical-align: top;\n",
       "    }\n",
       "\n",
       "    .dataframe thead th {\n",
       "        text-align: right;\n",
       "    }\n",
       "</style>\n",
       "<table border=\"1\" class=\"dataframe\">\n",
       "  <thead>\n",
       "    <tr style=\"text-align: right;\">\n",
       "      <th></th>\n",
       "      <th>Model</th>\n",
       "      <th>Accuracy</th>\n",
       "      <th>Precision</th>\n",
       "      <th>Recall</th>\n",
       "      <th>F1 Score</th>\n",
       "      <th>ROC</th>\n",
       "    </tr>\n",
       "  </thead>\n",
       "  <tbody>\n",
       "    <tr>\n",
       "      <th>0</th>\n",
       "      <td>lr</td>\n",
       "      <td>0.777208</td>\n",
       "      <td>0.150000</td>\n",
       "      <td>0.000374</td>\n",
       "      <td>0.000746</td>\n",
       "      <td>0.648921</td>\n",
       "    </tr>\n",
       "    <tr>\n",
       "      <th>1</th>\n",
       "      <td>knn_clf</td>\n",
       "      <td>0.743417</td>\n",
       "      <td>0.346498</td>\n",
       "      <td>0.173022</td>\n",
       "      <td>0.230422</td>\n",
       "      <td>0.594068</td>\n",
       "    </tr>\n",
       "    <tr>\n",
       "      <th>2</th>\n",
       "      <td>DecisionTree</td>\n",
       "      <td>0.723083</td>\n",
       "      <td>0.386824</td>\n",
       "      <td>0.415646</td>\n",
       "      <td>0.400569</td>\n",
       "      <td>0.613420</td>\n",
       "    </tr>\n",
       "    <tr>\n",
       "      <th>3</th>\n",
       "      <td>NB</td>\n",
       "      <td>0.372750</td>\n",
       "      <td>0.247536</td>\n",
       "      <td>0.890015</td>\n",
       "      <td>0.387318</td>\n",
       "      <td>0.671768</td>\n",
       "    </tr>\n",
       "    <tr>\n",
       "      <th>4</th>\n",
       "      <td>svm_clf</td>\n",
       "      <td>0.777250</td>\n",
       "      <td>0.000000</td>\n",
       "      <td>0.000000</td>\n",
       "      <td>0.000000</td>\n",
       "      <td>0.568021</td>\n",
       "    </tr>\n",
       "  </tbody>\n",
       "</table>\n",
       "</div>"
      ],
      "text/plain": [
       "          Model  Accuracy  Precision    Recall  F1 Score       ROC\n",
       "0            lr  0.777208   0.150000  0.000374  0.000746  0.648921\n",
       "1       knn_clf  0.743417   0.346498  0.173022  0.230422  0.594068\n",
       "2  DecisionTree  0.723083   0.386824  0.415646  0.400569  0.613420\n",
       "3            NB  0.372750   0.247536  0.890015  0.387318  0.671768\n",
       "4       svm_clf  0.777250   0.000000  0.000000  0.000000  0.568021"
      ]
     },
     "execution_count": 39,
     "metadata": {},
     "output_type": "execute_result"
    }
   ],
   "source": [
    "model_results"
   ]
  },
  {
   "cell_type": "code",
   "execution_count": null,
   "metadata": {},
   "outputs": [],
   "source": []
  },
  {
   "cell_type": "code",
   "execution_count": 22,
   "metadata": {},
   "outputs": [],
   "source": [
    "from sklearn.model_selection import cross_val_predict\n",
    "from sklearn.metrics import confusion_matrix\n"
   ]
  },
  {
   "cell_type": "markdown",
   "metadata": {},
   "source": [
    "# class_weight=balanced"
   ]
  },
  {
   "cell_type": "code",
   "execution_count": 38,
   "metadata": {},
   "outputs": [
    {
     "name": "stdout",
     "output_type": "stream",
     "text": [
      "confusion matrix for model: lr_weightbalanced :\n",
      "[[11010  7644]\n",
      " [ 2011  3335]]\n",
      "\n",
      "\n",
      "confusion matrix for model: knn_clf :\n",
      "[[16917  1737]\n",
      " [ 4421   925]]\n",
      "\n",
      "\n",
      "confusion matrix for model: DecisionTree_weightbalanced :\n",
      "[[15472  3182]\n",
      " [ 3220  2126]]\n",
      "\n",
      "\n",
      "confusion matrix for model: NB :\n",
      "[[ 4175 14479]\n",
      " [  589  4757]]\n",
      "\n",
      "\n",
      "confusion matrix for model: svm_clf__weightbalanced :\n",
      "[[10430  8224]\n",
      " [ 1784  3562]]\n",
      "\n",
      "\n"
     ]
    }
   ],
   "source": [
    "results = []\n",
    "names = []\n",
    "\n",
    "tested_models = {\n",
    "    'lr_weightbalanced': LogisticRegression(class_weight='balanced'),\n",
    "    'knn_clf': KNeighborsClassifier(),\n",
    "    'DecisionTree_weightbalanced': DecisionTreeClassifier(class_weight='balanced'),\n",
    "    'NB': GaussianNB(),\n",
    "    'svm_clf__weightbalanced': SVC(class_weight='balanced')\n",
    "}\n",
    "\n",
    "column_names=['Model', 'Accuracy', 'Precision', 'Recall', 'F1 Score','ROC']\n",
    "model_results = pd.DataFrame(columns = column_names)\n",
    "\n",
    "for model in tested_models:\n",
    "    pipe = Pipeline([\n",
    "        (\"features\", features),\n",
    "        ('model', tested_models[model])\n",
    "    ])\n",
    "    kfold = KFold(n_splits=num_folds, random_state=seed)\n",
    "    skf = StratifiedKFold(n_splits=num_folds, random_state=seed)\n",
    "    \n",
    "    cv_results = cross_validate(tested_models[model], X_train, Y_train, cv=skf,\n",
    "                        scoring=('accuracy', 'precision', 'recall','f1','roc_auc'), return_train_score=False)\n",
    "    y_pred=cross_val_predict(tested_models[model], X_train, Y_train,cv=10)\n",
    "    print('confusion matrix for model: %s :'%(model))\n",
    "    conf_mat=confusion_matrix(Y_train,y_pred)\n",
    "    print(conf_mat)\n",
    "    print('\\n')\n",
    "    \n",
    "    results.append(cv_results)\n",
    "    names.append(model)\n",
    "    \n",
    "    modeldf =  pd.DataFrame([[model,cv_results['test_accuracy'].mean(),cv_results['test_precision'].mean(),cv_results['test_recall'].mean(),cv_results['test_f1'].mean(),cv_results['test_roc_auc'].mean()]],\n",
    "    columns = ['Model', 'Accuracy', 'Precision', 'Recall', 'F1 Score','ROC'])\n",
    "    model_results = model_results.append(modeldf, ignore_index = True)"
   ]
  },
  {
   "cell_type": "code",
   "execution_count": 40,
   "metadata": {},
   "outputs": [
    {
     "data": {
      "text/html": [
       "<div>\n",
       "<style scoped>\n",
       "    .dataframe tbody tr th:only-of-type {\n",
       "        vertical-align: middle;\n",
       "    }\n",
       "\n",
       "    .dataframe tbody tr th {\n",
       "        vertical-align: top;\n",
       "    }\n",
       "\n",
       "    .dataframe thead th {\n",
       "        text-align: right;\n",
       "    }\n",
       "</style>\n",
       "<table border=\"1\" class=\"dataframe\">\n",
       "  <thead>\n",
       "    <tr style=\"text-align: right;\">\n",
       "      <th></th>\n",
       "      <th>Model</th>\n",
       "      <th>Accuracy</th>\n",
       "      <th>Precision</th>\n",
       "      <th>Recall</th>\n",
       "      <th>F1 Score</th>\n",
       "      <th>ROC</th>\n",
       "    </tr>\n",
       "  </thead>\n",
       "  <tbody>\n",
       "    <tr>\n",
       "      <th>0</th>\n",
       "      <td>lr_weightbalanced</td>\n",
       "      <td>0.597708</td>\n",
       "      <td>0.303825</td>\n",
       "      <td>0.623828</td>\n",
       "      <td>0.408515</td>\n",
       "      <td>0.640876</td>\n",
       "    </tr>\n",
       "    <tr>\n",
       "      <th>1</th>\n",
       "      <td>knn_clf</td>\n",
       "      <td>0.743417</td>\n",
       "      <td>0.346498</td>\n",
       "      <td>0.173022</td>\n",
       "      <td>0.230422</td>\n",
       "      <td>0.594068</td>\n",
       "    </tr>\n",
       "    <tr>\n",
       "      <th>2</th>\n",
       "      <td>DecisionTree_weightbalanced</td>\n",
       "      <td>0.732833</td>\n",
       "      <td>0.399978</td>\n",
       "      <td>0.396934</td>\n",
       "      <td>0.398328</td>\n",
       "      <td>0.613017</td>\n",
       "    </tr>\n",
       "    <tr>\n",
       "      <th>3</th>\n",
       "      <td>NB</td>\n",
       "      <td>0.372167</td>\n",
       "      <td>0.247331</td>\n",
       "      <td>0.889828</td>\n",
       "      <td>0.387049</td>\n",
       "      <td>0.671863</td>\n",
       "    </tr>\n",
       "    <tr>\n",
       "      <th>4</th>\n",
       "      <td>svm_clf__weightbalanced</td>\n",
       "      <td>0.583000</td>\n",
       "      <td>0.302223</td>\n",
       "      <td>0.666301</td>\n",
       "      <td>0.415801</td>\n",
       "      <td>0.667797</td>\n",
       "    </tr>\n",
       "  </tbody>\n",
       "</table>\n",
       "</div>"
      ],
      "text/plain": [
       "                         Model  Accuracy  Precision    Recall  F1 Score  \\\n",
       "0            lr_weightbalanced  0.597708   0.303825  0.623828  0.408515   \n",
       "1                      knn_clf  0.743417   0.346498  0.173022  0.230422   \n",
       "2  DecisionTree_weightbalanced  0.732833   0.399978  0.396934  0.398328   \n",
       "3                           NB  0.372167   0.247331  0.889828  0.387049   \n",
       "4      svm_clf__weightbalanced  0.583000   0.302223  0.666301  0.415801   \n",
       "\n",
       "        ROC  \n",
       "0  0.640876  \n",
       "1  0.594068  \n",
       "2  0.613017  \n",
       "3  0.671863  \n",
       "4  0.667797  "
      ]
     },
     "execution_count": 40,
     "metadata": {},
     "output_type": "execute_result"
    }
   ],
   "source": [
    "model_results"
   ]
  },
  {
   "cell_type": "code",
   "execution_count": 37,
   "metadata": {},
   "outputs": [
    {
     "data": {
      "text/html": [
       "<div>\n",
       "<style scoped>\n",
       "    .dataframe tbody tr th:only-of-type {\n",
       "        vertical-align: middle;\n",
       "    }\n",
       "\n",
       "    .dataframe tbody tr th {\n",
       "        vertical-align: top;\n",
       "    }\n",
       "\n",
       "    .dataframe thead th {\n",
       "        text-align: right;\n",
       "    }\n",
       "</style>\n",
       "<table border=\"1\" class=\"dataframe\">\n",
       "  <thead>\n",
       "    <tr style=\"text-align: right;\">\n",
       "      <th></th>\n",
       "      <th>Model</th>\n",
       "      <th>Accuracy</th>\n",
       "      <th>Precision</th>\n",
       "      <th>Recall</th>\n",
       "      <th>F1 Score</th>\n",
       "      <th>ROC</th>\n",
       "    </tr>\n",
       "  </thead>\n",
       "  <tbody>\n",
       "    <tr>\n",
       "      <th>0</th>\n",
       "      <td>lr_weightbalanced</td>\n",
       "      <td>0.597708</td>\n",
       "      <td>0.303825</td>\n",
       "      <td>0.623828</td>\n",
       "      <td>0.408515</td>\n",
       "      <td>0.640876</td>\n",
       "    </tr>\n",
       "    <tr>\n",
       "      <th>1</th>\n",
       "      <td>knn_clf</td>\n",
       "      <td>0.743417</td>\n",
       "      <td>0.346498</td>\n",
       "      <td>0.173022</td>\n",
       "      <td>0.230422</td>\n",
       "      <td>0.594068</td>\n",
       "    </tr>\n",
       "    <tr>\n",
       "      <th>2</th>\n",
       "      <td>DecisionTree</td>\n",
       "      <td>0.726333</td>\n",
       "      <td>0.392250</td>\n",
       "      <td>0.414709</td>\n",
       "      <td>0.403032</td>\n",
       "      <td>0.615177</td>\n",
       "    </tr>\n",
       "    <tr>\n",
       "      <th>3</th>\n",
       "      <td>NB</td>\n",
       "      <td>0.372167</td>\n",
       "      <td>0.247331</td>\n",
       "      <td>0.889828</td>\n",
       "      <td>0.387049</td>\n",
       "      <td>0.671863</td>\n",
       "    </tr>\n",
       "    <tr>\n",
       "      <th>4</th>\n",
       "      <td>svm_clf_balanced</td>\n",
       "      <td>0.583000</td>\n",
       "      <td>0.302223</td>\n",
       "      <td>0.666301</td>\n",
       "      <td>0.415801</td>\n",
       "      <td>0.667797</td>\n",
       "    </tr>\n",
       "  </tbody>\n",
       "</table>\n",
       "</div>"
      ],
      "text/plain": [
       "               Model  Accuracy  Precision    Recall  F1 Score       ROC\n",
       "0  lr_weightbalanced  0.597708   0.303825  0.623828  0.408515  0.640876\n",
       "1            knn_clf  0.743417   0.346498  0.173022  0.230422  0.594068\n",
       "2       DecisionTree  0.726333   0.392250  0.414709  0.403032  0.615177\n",
       "3                 NB  0.372167   0.247331  0.889828  0.387049  0.671863\n",
       "4   svm_clf_balanced  0.583000   0.302223  0.666301  0.415801  0.667797"
      ]
     },
     "execution_count": 37,
     "metadata": {},
     "output_type": "execute_result"
    }
   ],
   "source": [
    "model_results"
   ]
  },
  {
   "cell_type": "code",
   "execution_count": 42,
   "metadata": {},
   "outputs": [
    {
     "data": {
      "text/plain": [
       "7"
      ]
     },
     "execution_count": 42,
     "metadata": {},
     "output_type": "execute_result"
    }
   ],
   "source": [
    "seed\n"
   ]
  },
  {
   "cell_type": "markdown",
   "metadata": {},
   "source": [
    " The results suggest That decision tree,naive bayes may be worth further study.\n",
    " also we have to check if smote brings a difference in f1 score of logreg and svm"
   ]
  },
  {
   "cell_type": "markdown",
   "metadata": {},
   "source": [
    "These are just mean accuracy values. It is always wise to look at the distribution of accuracy\n",
    "values calculated across cross validation folds. We can do that graphically using box and whisker\n",
    "plots."
   ]
  },
  {
   "cell_type": "code",
   "execution_count": null,
   "metadata": {},
   "outputs": [],
   "source": []
  },
  {
   "cell_type": "code",
   "execution_count": 45,
   "metadata": {},
   "outputs": [],
   "source": [
    "from sklearn.model_selection import cross_val_predict"
   ]
  },
  {
   "cell_type": "code",
   "execution_count": 47,
   "metadata": {},
   "outputs": [],
   "source": [
    "from sklearn.metrics import roc_curve, roc_auc_score"
   ]
  },
  {
   "cell_type": "code",
   "execution_count": 52,
   "metadata": {},
   "outputs": [],
   "source": [
    "from sklearn.linear_model import LogisticRegression\n",
    "from sklearn.naive_bayes import GaussianNB\n",
    "from sklearn.neighbors import KNeighborsClassifier\n",
    "from sklearn.tree import DecisionTreeClassifier\n",
    "from sklearn.ensemble import RandomForestClassifier\n",
    "\n",
    "from sklearn.metrics import roc_curve, roc_auc_score\n",
    "\n",
    "# Instantiate the classfiers and make a list\n",
    "classifiers = [LogisticRegression(class_weight='balanced'), \n",
    "               GaussianNB(), \n",
    "               KNeighborsClassifier(), \n",
    "               DecisionTreeClassifier(class_weight='balanced'),\n",
    "               SVC(class_weight='balanced',probability=True)\n",
    "               ]\n",
    "\n",
    "# Define a result table as a DataFrame\n",
    "result_table = pd.DataFrame(columns=['classifiers', 'fpr','tpr','auc'])\n",
    "\n",
    "# Train the models and record the results\n",
    "for cls in classifiers:\n",
    "    model = cls.fit(X_train, Y_train)\n",
    "    yproba = model.predict_proba(X_validation)[::,1]\n",
    "    \n",
    "    fpr, tpr, _ = roc_curve(Y_validation,  yproba)\n",
    "    auc = roc_auc_score(Y_validation, yproba)\n",
    "    \n",
    "    result_table = result_table.append({'classifiers':cls.__class__.__name__,\n",
    "                                        'fpr':fpr, \n",
    "                                        'tpr':tpr, \n",
    "                                        'auc':auc}, ignore_index=True)\n",
    "\n",
    "# Set name of the classifiers as index labels\n",
    "result_table.set_index('classifiers', inplace=True)"
   ]
  },
  {
   "cell_type": "code",
   "execution_count": 53,
   "metadata": {},
   "outputs": [
    {
     "data": {
      "image/png": "[encoded data removed]",
      "text/plain": [
       "<Figure size 576x432 with 1 Axes>"
      ]
     },
     "metadata": {
      "needs_background": "light"
     },
     "output_type": "display_data"
    }
   ],
   "source": [
    "fig = plt.figure(figsize=(8,6))\n",
    "\n",
    "for i in result_table.index:\n",
    "    plt.plot(result_table.loc[i]['fpr'], \n",
    "             result_table.loc[i]['tpr'], \n",
    "             label=\"{}, AUC={:.3f}\".format(i, result_table.loc[i]['auc']))\n",
    "    \n",
    "plt.plot([0,1], [0,1], color='orange', linestyle='--')\n",
    "\n",
    "plt.xticks(np.arange(0.0, 1.1, step=0.1))\n",
    "plt.xlabel(\"Flase Positive Rate\", fontsize=15)\n",
    "\n",
    "plt.yticks(np.arange(0.0, 1.1, step=0.1))\n",
    "plt.ylabel(\"True Positive Rate\", fontsize=15)\n",
    "\n",
    "plt.title('ROC Curve Analysis', fontweight='bold', fontsize=15)\n",
    "plt.legend(prop={'size':13}, loc='lower right')\n",
    "\n",
    "plt.show() "
   ]
  },
  {
   "cell_type": "code",
   "execution_count": null,
   "metadata": {},
   "outputs": [],
   "source": []
  },
  {
   "cell_type": "code",
   "execution_count": null,
   "metadata": {},
   "outputs": [],
   "source": [
    "#Precision Recall Curve"
   ]
  },
  {
   "cell_type": "code",
   "execution_count": 99,
   "metadata": {},
   "outputs": [],
   "source": [
    "\n",
    "result_table1 = pd.DataFrame(columns=['classifiers',\n",
    "                                      'no_skill',\n",
    "                                        'model_recall', \n",
    "                                        'model_precision'])"
   ]
  },
  {
   "cell_type": "code",
   "execution_count": 91,
   "metadata": {},
   "outputs": [],
   "source": [
    "model_f1=[] \n",
    "model_auc=[]\n",
    "model_precision=[]\n",
    "model_recall=[]\n",
    "no_skill=[]"
   ]
  },
  {
   "cell_type": "code",
   "execution_count": 92,
   "metadata": {},
   "outputs": [],
   "source": [
    "classifiers = [LogisticRegression(class_weight='balanced'), \n",
    "               GaussianNB(), \n",
    "               KNeighborsClassifier(), \n",
    "               DecisionTreeClassifier(class_weight='balanced'),\n",
    "               SVC(class_weight='balanced',probability=True)\n",
    "               ]"
   ]
  },
  {
   "cell_type": "code",
   "execution_count": 93,
   "metadata": {},
   "outputs": [
    {
     "name": "stdout",
     "output_type": "stream",
     "text": [
      "LogisticRegression(class_weight='balanced'): f1=0.381 auc=0.286\n",
      "GaussianNB(): f1=0.375 auc=0.387\n",
      "KNeighborsClassifier(): f1=0.249 auc=0.308\n",
      "DecisionTreeClassifier(class_weight='balanced'): f1=0.403 auc=0.466\n",
      "SVC(class_weight='balanced', probability=True): f1=0.391 auc=0.319\n"
     ]
    }
   ],
   "source": [
    "# precision-recall curve and f1\n",
    "from sklearn.datasets import make_classification\n",
    "from sklearn.linear_model import LogisticRegression\n",
    "from sklearn.model_selection import train_test_split\n",
    "from sklearn.metrics import precision_recall_curve\n",
    "from sklearn.metrics import f1_score\n",
    "from sklearn.metrics import auc\n",
    "from matplotlib import pyplot\n",
    "\n",
    "for cls in classifiers:\n",
    "    model = cls.fit(X_train, Y_train)\n",
    "    yproba = model.predict_proba(X_validation)[::,1]\n",
    "    \n",
    "    # predict class values\n",
    "    yhat = model.predict(X_validation)\n",
    "    model_precision, model_recall, _ = precision_recall_curve(Y_validation, yproba)\n",
    "    model_f1, model_auc = f1_score(Y_validation, yhat), auc(model_recall, model_precision)\n",
    "    # summarize scores\n",
    "    print('%s: f1=%.3f auc=%.3f' % (cls,model_f1, model_auc))\n",
    "    # plot the precision-recall curves\n",
    "    no_skill = len(Y_validation[Y_validation==1]) / len(Y_validation)\n",
    "    result_table1 = result_table1.append({'classifiers':cls.__class__.__name__,\n",
    "                                          'no_skill':no_skill,\n",
    "                                        'model_recall':model_recall, \n",
    "                                        'model_precision':model_precision, \n",
    "                                        }, ignore_index=True)\n",
    "# Set name of the classifiers as index labels\n",
    "result_table1.set_index('classifiers', inplace=True)\n",
    "    \n"
   ]
  },
  {
   "cell_type": "code",
   "execution_count": 94,
   "metadata": {
    "scrolled": true
   },
   "outputs": [
    {
     "data": {
      "text/html": [
       "<div>\n",
       "<style scoped>\n",
       "    .dataframe tbody tr th:only-of-type {\n",
       "        vertical-align: middle;\n",
       "    }\n",
       "\n",
       "    .dataframe tbody tr th {\n",
       "        vertical-align: top;\n",
       "    }\n",
       "\n",
       "    .dataframe thead th {\n",
       "        text-align: right;\n",
       "    }\n",
       "</style>\n",
       "<table border=\"1\" class=\"dataframe\">\n",
       "  <thead>\n",
       "    <tr style=\"text-align: right;\">\n",
       "      <th></th>\n",
       "      <th>no_skill</th>\n",
       "      <th>model_recall</th>\n",
       "      <th>model_precision</th>\n",
       "    </tr>\n",
       "    <tr>\n",
       "      <th>classifiers</th>\n",
       "      <th></th>\n",
       "      <th></th>\n",
       "      <th></th>\n",
       "    </tr>\n",
       "  </thead>\n",
       "  <tbody>\n",
       "    <tr>\n",
       "      <th>LogisticRegression</th>\n",
       "      <td>0.215</td>\n",
       "      <td>[1.0, 0.9992248062015504, 0.9992248062015504, ...</td>\n",
       "      <td>[0.21521521521521522, 0.2150842649758051, 0.21...</td>\n",
       "    </tr>\n",
       "    <tr>\n",
       "      <th>GaussianNB</th>\n",
       "      <td>0.215</td>\n",
       "      <td>[1.0, 0.9992248062015504, 0.9992248062015504, ...</td>\n",
       "      <td>[0.21521521521521522, 0.2150842649758051, 0.21...</td>\n",
       "    </tr>\n",
       "    <tr>\n",
       "      <th>KNeighborsClassifier</th>\n",
       "      <td>0.215</td>\n",
       "      <td>[1.0, 0.7728682170542636, 0.4434108527131783, ...</td>\n",
       "      <td>[0.215, 0.24770186335403727, 0.286429644466700...</td>\n",
       "    </tr>\n",
       "    <tr>\n",
       "      <th>DecisionTreeClassifier</th>\n",
       "      <td>0.215</td>\n",
       "      <td>[1.0, 0.4124031007751938, 0.0]</td>\n",
       "      <td>[0.215, 0.39320029563932, 1.0]</td>\n",
       "    </tr>\n",
       "    <tr>\n",
       "      <th>SVC</th>\n",
       "      <td>0.215</td>\n",
       "      <td>[1.0, 0.9992248062015504, 0.9992248062015504, ...</td>\n",
       "      <td>[0.215, 0.21486914485747624, 0.214904968322774...</td>\n",
       "    </tr>\n",
       "  </tbody>\n",
       "</table>\n",
       "</div>"
      ],
      "text/plain": [
       "                        no_skill  \\\n",
       "classifiers                        \n",
       "LogisticRegression         0.215   \n",
       "GaussianNB                 0.215   \n",
       "KNeighborsClassifier       0.215   \n",
       "DecisionTreeClassifier     0.215   \n",
       "SVC                        0.215   \n",
       "\n",
       "                                                             model_recall  \\\n",
       "classifiers                                                                 \n",
       "LogisticRegression      [1.0, 0.9992248062015504, 0.9992248062015504, ...   \n",
       "GaussianNB              [1.0, 0.9992248062015504, 0.9992248062015504, ...   \n",
       "KNeighborsClassifier    [1.0, 0.7728682170542636, 0.4434108527131783, ...   \n",
       "DecisionTreeClassifier                     [1.0, 0.4124031007751938, 0.0]   \n",
       "SVC                     [1.0, 0.9992248062015504, 0.9992248062015504, ...   \n",
       "\n",
       "                                                          model_precision  \n",
       "classifiers                                                                \n",
       "LogisticRegression      [0.21521521521521522, 0.2150842649758051, 0.21...  \n",
       "GaussianNB              [0.21521521521521522, 0.2150842649758051, 0.21...  \n",
       "KNeighborsClassifier    [0.215, 0.24770186335403727, 0.286429644466700...  \n",
       "DecisionTreeClassifier                     [0.215, 0.39320029563932, 1.0]  \n",
       "SVC                     [0.215, 0.21486914485747624, 0.214904968322774...  "
      ]
     },
     "execution_count": 94,
     "metadata": {},
     "output_type": "execute_result"
    }
   ],
   "source": [
    "result_table1.head()"
   ]
  },
  {
   "cell_type": "code",
   "execution_count": 95,
   "metadata": {},
   "outputs": [
    {
     "data": {
      "text/plain": [
       "Index(['LogisticRegression', 'GaussianNB', 'KNeighborsClassifier',\n",
       "       'DecisionTreeClassifier', 'SVC'],\n",
       "      dtype='object', name='classifiers')"
      ]
     },
     "execution_count": 95,
     "metadata": {},
     "output_type": "execute_result"
    }
   ],
   "source": [
    " result_table1.index"
   ]
  },
  {
   "cell_type": "code",
   "execution_count": 98,
   "metadata": {
    "scrolled": true
   },
   "outputs": [
    {
     "data": {
      "image/png": "[encoded data removed]",
      "text/plain": [
       "<Figure size 576x432 with 1 Axes>"
      ]
     },
     "metadata": {
      "needs_background": "light"
     },
     "output_type": "display_data"
    }
   ],
   "source": [
    "fig = plt.figure(figsize=(8,6))\n",
    "#marker='.', label=result_table1.loc[i]['classifiers']\n",
    "for i in result_table1.index:\n",
    "    #r1=np.vectorize(result_table1.loc[i]['model_recall'])\n",
    "   # r2=np.vectorize(result_table1.loc[i]['model_precision'])\n",
    "    r1=result_table1.loc[i]['model_recall']\n",
    "    r2=result_table1.loc[i]['model_precision']\n",
    "    pyplot.plot( [0, 1],[result_table1.loc[i]['no_skill'], result_table1.loc[i]['no_skill']], linestyle='--', label='No Skill')\n",
    "    pyplot.plot(r1, r2,\n",
    "                \n",
    "                marker='.', label=i)\n",
    "# axis labels\n",
    "pyplot.xlabel('Recall')\n",
    "pyplot.ylabel('Precision')\n",
    "# show the legend\n",
    "pyplot.legend(bbox_to_anchor=(1.1, 1.05))\n",
    "# show the plot\n",
    "pyplot.show()"
   ]
  },
  {
   "cell_type": "code",
   "execution_count": null,
   "metadata": {},
   "outputs": [],
   "source": []
  },
  {
   "cell_type": "code",
   "execution_count": null,
   "metadata": {},
   "outputs": [],
   "source": [
    "#Precision Recall Curve"
   ]
  },
  {
   "cell_type": "code",
   "execution_count": 110,
   "metadata": {},
   "outputs": [],
   "source": [
    "\n",
    "result_table1 = pd.DataFrame(columns=['classifiers',\n",
    "                                      'no_skill',\n",
    "                                        'model_recall', \n",
    "                                        'model_precision'])"
   ]
  },
  {
   "cell_type": "code",
   "execution_count": 111,
   "metadata": {},
   "outputs": [],
   "source": [
    "model_f1=[] \n",
    "model_auc=[]\n",
    "model_precision=[]\n",
    "model_recall=[]\n",
    "no_skill=[]"
   ]
  },
  {
   "cell_type": "code",
   "execution_count": 112,
   "metadata": {},
   "outputs": [],
   "source": [
    "classifiers = [LogisticRegression(), \n",
    "               GaussianNB(), \n",
    "               KNeighborsClassifier(), \n",
    "               DecisionTreeClassifier(),\n",
    "               SVC(probability=True)\n",
    "               ]"
   ]
  },
  {
   "cell_type": "code",
   "execution_count": 113,
   "metadata": {},
   "outputs": [
    {
     "name": "stdout",
     "output_type": "stream",
     "text": [
      "LogisticRegression(): f1=0.000 auc=0.306\n",
      "GaussianNB(): f1=0.375 auc=0.387\n",
      "KNeighborsClassifier(): f1=0.249 auc=0.308\n",
      "DecisionTreeClassifier(): f1=0.393 auc=0.457\n",
      "SVC(probability=True): f1=0.000 auc=0.232\n"
     ]
    }
   ],
   "source": [
    "# precision-recall curve and f1\n",
    "from sklearn.datasets import make_classification\n",
    "from sklearn.linear_model import LogisticRegression\n",
    "from sklearn.model_selection import train_test_split\n",
    "from sklearn.metrics import precision_recall_curve\n",
    "from sklearn.metrics import f1_score\n",
    "from sklearn.metrics import auc\n",
    "from matplotlib import pyplot\n",
    "\n",
    "for cls in classifiers:\n",
    "    model = cls.fit(X_train, Y_train)\n",
    "    yproba = model.predict_proba(X_validation)[::,1]\n",
    "    \n",
    "    # predict class values\n",
    "    yhat = model.predict(X_validation)\n",
    "    model_precision, model_recall, _ = precision_recall_curve(Y_validation, yproba)\n",
    "    model_f1, model_auc = f1_score(Y_validation, yhat), auc(model_recall, model_precision)\n",
    "    # summarize scores\n",
    "    print('%s: f1=%.3f auc=%.3f' % (cls,model_f1, model_auc))\n",
    "    # plot the precision-recall curves\n",
    "    no_skill = len(Y_validation[Y_validation==1]) / len(Y_validation)\n",
    "    result_table1 = result_table1.append({'classifiers':cls.__class__.__name__,\n",
    "                                          'no_skill':no_skill,\n",
    "                                        'model_recall':model_recall, \n",
    "                                        'model_precision':model_precision, \n",
    "                                        }, ignore_index=True)\n",
    "# Set name of the classifiers as index labels\n",
    "result_table1.set_index('classifiers', inplace=True)\n",
    "    \n"
   ]
  },
  {
   "cell_type": "code",
   "execution_count": 114,
   "metadata": {
    "scrolled": true
   },
   "outputs": [
    {
     "data": {
      "text/html": [
       "<div>\n",
       "<style scoped>\n",
       "    .dataframe tbody tr th:only-of-type {\n",
       "        vertical-align: middle;\n",
       "    }\n",
       "\n",
       "    .dataframe tbody tr th {\n",
       "        vertical-align: top;\n",
       "    }\n",
       "\n",
       "    .dataframe thead th {\n",
       "        text-align: right;\n",
       "    }\n",
       "</style>\n",
       "<table border=\"1\" class=\"dataframe\">\n",
       "  <thead>\n",
       "    <tr style=\"text-align: right;\">\n",
       "      <th></th>\n",
       "      <th>no_skill</th>\n",
       "      <th>model_recall</th>\n",
       "      <th>model_precision</th>\n",
       "    </tr>\n",
       "    <tr>\n",
       "      <th>classifiers</th>\n",
       "      <th></th>\n",
       "      <th></th>\n",
       "      <th></th>\n",
       "    </tr>\n",
       "  </thead>\n",
       "  <tbody>\n",
       "    <tr>\n",
       "      <th>LogisticRegression</th>\n",
       "      <td>0.215</td>\n",
       "      <td>[1.0, 0.9992248062015504, 0.9992248062015504, ...</td>\n",
       "      <td>[0.21525112631403304, 0.21512016021361816, 0.2...</td>\n",
       "    </tr>\n",
       "    <tr>\n",
       "      <th>GaussianNB</th>\n",
       "      <td>0.215</td>\n",
       "      <td>[1.0, 0.9992248062015504, 0.9992248062015504, ...</td>\n",
       "      <td>[0.21521521521521522, 0.2150842649758051, 0.21...</td>\n",
       "    </tr>\n",
       "    <tr>\n",
       "      <th>KNeighborsClassifier</th>\n",
       "      <td>0.215</td>\n",
       "      <td>[1.0, 0.7728682170542636, 0.4434108527131783, ...</td>\n",
       "      <td>[0.215, 0.24770186335403727, 0.286429644466700...</td>\n",
       "    </tr>\n",
       "    <tr>\n",
       "      <th>DecisionTreeClassifier</th>\n",
       "      <td>0.215</td>\n",
       "      <td>[1.0, 0.413953488372093, 0.0]</td>\n",
       "      <td>[0.215, 0.3736878936319104, 1.0]</td>\n",
       "    </tr>\n",
       "    <tr>\n",
       "      <th>SVC</th>\n",
       "      <td>0.215</td>\n",
       "      <td>[1.0, 0.9992248062015504, 0.9992248062015504, ...</td>\n",
       "      <td>[0.2151793160967473, 0.2150483817150484, 0.215...</td>\n",
       "    </tr>\n",
       "  </tbody>\n",
       "</table>\n",
       "</div>"
      ],
      "text/plain": [
       "                        no_skill  \\\n",
       "classifiers                        \n",
       "LogisticRegression         0.215   \n",
       "GaussianNB                 0.215   \n",
       "KNeighborsClassifier       0.215   \n",
       "DecisionTreeClassifier     0.215   \n",
       "SVC                        0.215   \n",
       "\n",
       "                                                             model_recall  \\\n",
       "classifiers                                                                 \n",
       "LogisticRegression      [1.0, 0.9992248062015504, 0.9992248062015504, ...   \n",
       "GaussianNB              [1.0, 0.9992248062015504, 0.9992248062015504, ...   \n",
       "KNeighborsClassifier    [1.0, 0.7728682170542636, 0.4434108527131783, ...   \n",
       "DecisionTreeClassifier                      [1.0, 0.413953488372093, 0.0]   \n",
       "SVC                     [1.0, 0.9992248062015504, 0.9992248062015504, ...   \n",
       "\n",
       "                                                          model_precision  \n",
       "classifiers                                                                \n",
       "LogisticRegression      [0.21525112631403304, 0.21512016021361816, 0.2...  \n",
       "GaussianNB              [0.21521521521521522, 0.2150842649758051, 0.21...  \n",
       "KNeighborsClassifier    [0.215, 0.24770186335403727, 0.286429644466700...  \n",
       "DecisionTreeClassifier                   [0.215, 0.3736878936319104, 1.0]  \n",
       "SVC                     [0.2151793160967473, 0.2150483817150484, 0.215...  "
      ]
     },
     "execution_count": 114,
     "metadata": {},
     "output_type": "execute_result"
    }
   ],
   "source": [
    "result_table1.head()"
   ]
  },
  {
   "cell_type": "code",
   "execution_count": 115,
   "metadata": {},
   "outputs": [
    {
     "data": {
      "text/plain": [
       "Index(['LogisticRegression', 'GaussianNB', 'KNeighborsClassifier',\n",
       "       'DecisionTreeClassifier', 'SVC'],\n",
       "      dtype='object', name='classifiers')"
      ]
     },
     "execution_count": 115,
     "metadata": {},
     "output_type": "execute_result"
    }
   ],
   "source": [
    " result_table1.index"
   ]
  },
  {
   "cell_type": "code",
   "execution_count": 116,
   "metadata": {
    "scrolled": true
   },
   "outputs": [
    {
     "data": {
      "image/png": "[encoded data removed]",
      "text/plain": [
       "<Figure size 576x432 with 1 Axes>"
      ]
     },
     "metadata": {
      "needs_background": "light"
     },
     "output_type": "display_data"
    }
   ],
   "source": [
    "fig = plt.figure(figsize=(8,6))\n",
    "#marker='.', label=result_table1.loc[i]['classifiers']\n",
    "for i in result_table1.index:\n",
    "    #r1=np.vectorize(result_table1.loc[i]['model_recall'])\n",
    "   # r2=np.vectorize(result_table1.loc[i]['model_precision'])\n",
    "    r1=result_table1.loc[i]['model_recall']\n",
    "    r2=result_table1.loc[i]['model_precision']\n",
    "    pyplot.plot( [0, 1],[result_table1.loc[i]['no_skill'], result_table1.loc[i]['no_skill']], linestyle='--', label='No Skill')\n",
    "    pyplot.plot(r1, r2,\n",
    "                \n",
    "                marker='.', label=i)\n",
    "# axis labels\n",
    "pyplot.xlabel('Recall')\n",
    "pyplot.ylabel('Precision')\n",
    "# show the legend\n",
    "pyplot.legend(bbox_to_anchor=(1.1, 1.05))\n",
    "# show the plot\n",
    "pyplot.show()"
   ]
  },
  {
   "cell_type": "code",
   "execution_count": null,
   "metadata": {},
   "outputs": [],
   "source": []
  },
  {
   "cell_type": "code",
   "execution_count": null,
   "metadata": {},
   "outputs": [],
   "source": []
  },
  {
   "cell_type": "code",
   "execution_count": null,
   "metadata": {},
   "outputs": [],
   "source": []
  },
  {
   "cell_type": "code",
   "execution_count": null,
   "metadata": {},
   "outputs": [],
   "source": []
  },
  {
   "cell_type": "code",
   "execution_count": 100,
   "metadata": {},
   "outputs": [
    {
     "name": "stdout",
     "output_type": "stream",
     "text": [
      "LogisticRegression(class_weight='balanced'): f1=0.381 auc=0.286\n",
      "LogisticRegression(class_weight='balanced'): f1=0.381 auc=0.286\n"
     ]
    },
    {
     "data": {
      "image/png": "[encoded data removed]",
      "text/plain": [
       "<Figure size 432x288 with 1 Axes>"
      ]
     },
     "metadata": {
      "needs_background": "light"
     },
     "output_type": "display_data"
    },
    {
     "name": "stdout",
     "output_type": "stream",
     "text": [
      "GaussianNB(): f1=0.375 auc=0.387\n",
      "GaussianNB(): f1=0.375 auc=0.387\n"
     ]
    },
    {
     "data": {
      "image/png": "[encoded data removed]",
      "text/plain": [
       "<Figure size 432x288 with 1 Axes>"
      ]
     },
     "metadata": {
      "needs_background": "light"
     },
     "output_type": "display_data"
    },
    {
     "name": "stdout",
     "output_type": "stream",
     "text": [
      "KNeighborsClassifier(): f1=0.249 auc=0.308\n",
      "KNeighborsClassifier(): f1=0.249 auc=0.308\n"
     ]
    },
    {
     "data": {
      "image/png": "[encoded data removed]",
      "text/plain": [
       "<Figure size 432x288 with 1 Axes>"
      ]
     },
     "metadata": {
      "needs_background": "light"
     },
     "output_type": "display_data"
    },
    {
     "name": "stdout",
     "output_type": "stream",
     "text": [
      "DecisionTreeClassifier(class_weight='balanced'): f1=0.401 auc=0.464\n",
      "DecisionTreeClassifier(class_weight='balanced'): f1=0.401 auc=0.464\n"
     ]
    },
    {
     "data": {
      "image/png": "[encoded data removed]",
      "text/plain": [
       "<Figure size 432x288 with 1 Axes>"
      ]
     },
     "metadata": {
      "needs_background": "light"
     },
     "output_type": "display_data"
    },
    {
     "name": "stdout",
     "output_type": "stream",
     "text": [
      "SVC(class_weight='balanced', probability=True): f1=0.391 auc=0.319\n",
      "SVC(class_weight='balanced', probability=True): f1=0.391 auc=0.319\n"
     ]
    },
    {
     "data": {
      "image/png": "[encoded data removed]",
      "text/plain": [
       "<Figure size 432x288 with 1 Axes>"
      ]
     },
     "metadata": {
      "needs_background": "light"
     },
     "output_type": "display_data"
    }
   ],
   "source": [
    "from sklearn.datasets import make_classification\n",
    "from sklearn.linear_model import LogisticRegression\n",
    "from sklearn.model_selection import train_test_split\n",
    "from sklearn.metrics import precision_recall_curve\n",
    "from sklearn.metrics import f1_score\n",
    "from sklearn.metrics import auc\n",
    "from matplotlib import pyplot\n",
    "\n",
    "for cls in classifiers:\n",
    "    model = cls.fit(X_train, Y_train)\n",
    "    yproba = model.predict_proba(X_validation)[::,1]\n",
    "    \n",
    "    # predict class values\n",
    "    yhat = model.predict(X_validation)\n",
    "    model_precision, model_recall, _ = precision_recall_curve(Y_validation, yproba)\n",
    "    model_f1, model_auc = f1_score(Y_validation, yhat), auc(model_recall, model_precision)\n",
    "    # summarize scores\n",
    "    print('%s: f1=%.3f auc=%.3f' % (cls,model_f1, model_auc))\n",
    "    # plot the precision-recall curves\n",
    "    no_skill = len(Y_validation[Y_validation==1]) / len(Y_validation)\n",
    "    result_table1 = result_table1.append({'classifiers':cls.__class__.__name__,\n",
    "                                          'no_skill':no_skill,\n",
    "                                        'model_recall':model_recall, \n",
    "                                        'model_precision':model_precision, \n",
    "                                        }, ignore_index=True)\n",
    "\n",
    "    # predict class values\n",
    "    yhat = model.predict(X_validation)\n",
    "    model_precision, model_recall, _ = precision_recall_curve(Y_validation, yproba)\n",
    "    model_f1, model_auc = f1_score(Y_validation, yhat), auc(model_recall, model_precision)\n",
    "    # summarize scores\n",
    "    print('%s: f1=%.3f auc=%.3f' % (cls,model_f1, model_auc))\n",
    "    # plot the precision-recall curves\n",
    "    no_skill = len(Y_validation[Y_validation==1]) / len(Y_validation)\n",
    "    pyplot.plot([0, 1], [no_skill, no_skill], linestyle='--', label='No Skill')\n",
    "    pyplot.plot(model_recall, model_precision, marker='.', label=cls)\n",
    "    # axis labels\n",
    "    pyplot.xlabel('Recall')\n",
    "    pyplot.ylabel('Precision')\n",
    "    # show the legend\n",
    "    pyplot.legend()\n",
    "    # show the plot\n",
    "    pyplot.show()"
   ]
  },
  {
   "cell_type": "code",
   "execution_count": null,
   "metadata": {},
   "outputs": [],
   "source": []
  },
  {
   "cell_type": "code",
   "execution_count": null,
   "metadata": {},
   "outputs": [],
   "source": []
  },
  {
   "cell_type": "code",
   "execution_count": null,
   "metadata": {},
   "outputs": [],
   "source": []
  },
  {
   "cell_type": "code",
   "execution_count": null,
   "metadata": {},
   "outputs": [],
   "source": []
  },
  {
   "cell_type": "code",
   "execution_count": 41,
   "metadata": {},
   "outputs": [],
   "source": [
    "models1 = []\n",
    "models1.append(('LR', LogisticRegression(class_weight='balanced')))\n",
    "models1.append(('KNN', KNeighborsClassifier()))\n",
    "models1.append(('DecisonTree', DecisionTreeClassifier(class_weight='balanced')))\n",
    "models1.append(('NB', GaussianNB()))\n",
    "models1.append(('SVM', SVC(class_weight='balanced')))"
   ]
  },
  {
   "cell_type": "code",
   "execution_count": 42,
   "metadata": {},
   "outputs": [
    {
     "name": "stdout",
     "output_type": "stream",
     "text": [
      "LR: 0.408515 (0.007387)\n",
      "KNN: 0.230422 (0.030002)\n",
      "DecisonTree: 0.400150 (0.013399)\n",
      "NB: 0.387049 (0.003965)\n",
      "SVM: 0.415801 (0.007178)\n"
     ]
    }
   ],
   "source": [
    "results1 = []\n",
    "names1= []\n",
    "scoring='f1'\n",
    "for name, model in models1:\n",
    "    kfold = KFold(n_splits=num_folds, random_state=seed)\n",
    "    skf = StratifiedKFold(n_splits=num_folds, random_state=seed)\n",
    "    cv_results = cross_val_score(model, X_train, Y_train, cv=skf, scoring=scoring)\n",
    "    results1.append(cv_results)\n",
    "    names1.append(name)\n",
    "    msg = \"%s: %f (%f)\" % (name, cv_results.mean(), cv_results.std())\n",
    "    print(msg)"
   ]
  },
  {
   "cell_type": "code",
   "execution_count": 43,
   "metadata": {},
   "outputs": [
    {
     "data": {
      "image/png": "[encoded data removed]",
      "text/plain": [
       "<Figure size 432x288 with 1 Axes>"
      ]
     },
     "metadata": {
      "needs_background": "light"
     },
     "output_type": "display_data"
    }
   ],
   "source": [
    "# Compare Algorithms\n",
    "fig = pyplot.figure()\n",
    "fig.suptitle('Algorithm Comparison')\n",
    "ax = fig.add_subplot(111)\n",
    "pyplot.boxplot(results1)\n",
    "ax.set_xticklabels(names1)\n",
    "pyplot.show()"
   ]
  },
  {
   "cell_type": "markdown",
   "metadata": {},
   "source": [
    "# SMOTE"
   ]
  },
  {
   "cell_type": "code",
   "execution_count": 54,
   "metadata": {},
   "outputs": [],
   "source": [
    "#pip install --user imblearn -U\n",
    "#pip install scipy --upgrade"
   ]
  },
  {
   "cell_type": "code",
   "execution_count": 101,
   "metadata": {},
   "outputs": [],
   "source": [
    "from imblearn import under_sampling, over_sampling\n",
    "from imblearn.over_sampling import SMOTE"
   ]
  },
  {
   "cell_type": "code",
   "execution_count": 102,
   "metadata": {},
   "outputs": [
    {
     "data": {
      "text/plain": [
       "(24000, 24)"
      ]
     },
     "execution_count": 102,
     "metadata": {},
     "output_type": "execute_result"
    }
   ],
   "source": [
    "X_train.shape"
   ]
  },
  {
   "cell_type": "code",
   "execution_count": 103,
   "metadata": {},
   "outputs": [],
   "source": [
    "# Deal with imbalance using SMOTE\n",
    "from imblearn.over_sampling import SMOTE\n",
    "\n",
    "# Smote train dataset using a 50-50 split\n",
    "#smote = SMOTE(sampling_strategy=1)\n",
    "#X_train_resampled, y_train_resampled = smote.fit_sample(X_train, Y_train)\n",
    "# Transform resample X_train into DataFrame\n",
    "#X_train_resampled = pd.DataFrame(X_train_resampled)"
   ]
  },
  {
   "cell_type": "code",
   "execution_count": 104,
   "metadata": {},
   "outputs": [],
   "source": [
    "from imblearn.pipeline import Pipeline"
   ]
  },
  {
   "cell_type": "code",
   "execution_count": 105,
   "metadata": {},
   "outputs": [],
   "source": [
    "column_names1=['Model', 'Accuracy', 'Precision', 'Recall', 'F1 Score','ROC']\n",
    "model_results1 = pd.DataFrame(columns = column_names1)"
   ]
  },
  {
   "cell_type": "code",
   "execution_count": 106,
   "metadata": {},
   "outputs": [
    {
     "name": "stdout",
     "output_type": "stream",
     "text": [
      "confusion matrix for model: lr_weightbalanced :\n",
      "[[11010  7644]\n",
      " [ 2011  3335]]\n",
      "\n",
      "\n",
      "confusion matrix for model: knn_clf :\n",
      "[[16917  1737]\n",
      " [ 4421   925]]\n",
      "\n",
      "\n",
      "confusion matrix for model: DecisionTree_weightbalanced :\n",
      "[[15441  3213]\n",
      " [ 3223  2123]]\n",
      "\n",
      "\n",
      "confusion matrix for model: NB :\n",
      "[[ 4175 14479]\n",
      " [  589  4757]]\n",
      "\n",
      "\n",
      "confusion matrix for model: svm_clf_weightbalanced :\n",
      "[[10430  8224]\n",
      " [ 1784  3562]]\n",
      "\n",
      "\n"
     ]
    }
   ],
   "source": [
    "results = []\n",
    "names = []\n",
    "tested_models = {\n",
    "    'lr_weightbalanced': LogisticRegression(class_weight='balanced'),\n",
    "    'knn_clf': KNeighborsClassifier(),\n",
    "    'DecisionTree_weightbalanced': DecisionTreeClassifier(class_weight='balanced'),\n",
    "    'NB': GaussianNB(),\n",
    "    'svm_clf_weightbalanced': SVC(class_weight='balanced')\n",
    "}\n",
    "\n",
    "\n",
    "\n",
    "for model in tested_models:\n",
    "    pipe = Pipeline([\n",
    "        (\"features\", features),\n",
    "        ('smote',SMOTE(sampling_strategy=1)),\n",
    "        ('model', tested_models[model])\n",
    "    ])\n",
    "    kfold = KFold(n_splits=num_folds, random_state=seed)\n",
    "    skf = StratifiedKFold(n_splits=num_folds, random_state=111)\n",
    "\n",
    "    cv_results = cross_validate(tested_models[model],X_train, Y_train, cv=skf,\n",
    "                        scoring=('accuracy', 'precision', 'recall','f1','roc_auc'), return_train_score=False)\n",
    "    y_pred=cross_val_predict(tested_models[model], X_train, Y_train,cv=10)\n",
    "    print('confusion matrix for model: %s :'%(model))\n",
    "    conf_mat=confusion_matrix(Y_train,y_pred)\n",
    "    print(conf_mat)\n",
    "    print('\\n')\n",
    "    \n",
    "    results.append(cv_results)\n",
    "    names.append(model)\n",
    "    \n",
    "    modeldf =  pd.DataFrame([[model+' smote',cv_results['test_accuracy'].mean(),cv_results['test_precision'].mean(),cv_results['test_recall'].mean(),cv_results['test_f1'].mean(),cv_results['test_roc_auc'].mean()]],\n",
    "    columns = ['Model', 'Accuracy', 'Precision', 'Recall', 'F1 Score','ROC'])\n",
    "    model_results1 = model_results1.append(modeldf, ignore_index = True)"
   ]
  },
  {
   "cell_type": "code",
   "execution_count": 107,
   "metadata": {},
   "outputs": [
    {
     "data": {
      "text/html": [
       "<div>\n",
       "<style scoped>\n",
       "    .dataframe tbody tr th:only-of-type {\n",
       "        vertical-align: middle;\n",
       "    }\n",
       "\n",
       "    .dataframe tbody tr th {\n",
       "        vertical-align: top;\n",
       "    }\n",
       "\n",
       "    .dataframe thead th {\n",
       "        text-align: right;\n",
       "    }\n",
       "</style>\n",
       "<table border=\"1\" class=\"dataframe\">\n",
       "  <thead>\n",
       "    <tr style=\"text-align: right;\">\n",
       "      <th></th>\n",
       "      <th>Model</th>\n",
       "      <th>Accuracy</th>\n",
       "      <th>Precision</th>\n",
       "      <th>Recall</th>\n",
       "      <th>F1 Score</th>\n",
       "      <th>ROC</th>\n",
       "    </tr>\n",
       "  </thead>\n",
       "  <tbody>\n",
       "    <tr>\n",
       "      <th>0</th>\n",
       "      <td>lr_weightbalanced smote</td>\n",
       "      <td>0.597708</td>\n",
       "      <td>0.303825</td>\n",
       "      <td>0.623828</td>\n",
       "      <td>0.408515</td>\n",
       "      <td>0.640876</td>\n",
       "    </tr>\n",
       "    <tr>\n",
       "      <th>1</th>\n",
       "      <td>knn_clf smote</td>\n",
       "      <td>0.743417</td>\n",
       "      <td>0.346498</td>\n",
       "      <td>0.173022</td>\n",
       "      <td>0.230422</td>\n",
       "      <td>0.594068</td>\n",
       "    </tr>\n",
       "    <tr>\n",
       "      <th>2</th>\n",
       "      <td>DecisionTree_weightbalanced smote</td>\n",
       "      <td>0.731083</td>\n",
       "      <td>0.396594</td>\n",
       "      <td>0.396747</td>\n",
       "      <td>0.396574</td>\n",
       "      <td>0.611824</td>\n",
       "    </tr>\n",
       "    <tr>\n",
       "      <th>3</th>\n",
       "      <td>NB smote</td>\n",
       "      <td>0.372167</td>\n",
       "      <td>0.247331</td>\n",
       "      <td>0.889828</td>\n",
       "      <td>0.387049</td>\n",
       "      <td>0.671863</td>\n",
       "    </tr>\n",
       "    <tr>\n",
       "      <th>4</th>\n",
       "      <td>svm_clf_weightbalanced smote</td>\n",
       "      <td>0.583000</td>\n",
       "      <td>0.302223</td>\n",
       "      <td>0.666301</td>\n",
       "      <td>0.415801</td>\n",
       "      <td>0.667797</td>\n",
       "    </tr>\n",
       "  </tbody>\n",
       "</table>\n",
       "</div>"
      ],
      "text/plain": [
       "                               Model  Accuracy  Precision    Recall  F1 Score  \\\n",
       "0            lr_weightbalanced smote  0.597708   0.303825  0.623828  0.408515   \n",
       "1                      knn_clf smote  0.743417   0.346498  0.173022  0.230422   \n",
       "2  DecisionTree_weightbalanced smote  0.731083   0.396594  0.396747  0.396574   \n",
       "3                           NB smote  0.372167   0.247331  0.889828  0.387049   \n",
       "4       svm_clf_weightbalanced smote  0.583000   0.302223  0.666301  0.415801   \n",
       "\n",
       "        ROC  \n",
       "0  0.640876  \n",
       "1  0.594068  \n",
       "2  0.611824  \n",
       "3  0.671863  \n",
       "4  0.667797  "
      ]
     },
     "execution_count": 107,
     "metadata": {},
     "output_type": "execute_result"
    }
   ],
   "source": [
    "model_results1"
   ]
  },
  {
   "cell_type": "code",
   "execution_count": 40,
   "metadata": {},
   "outputs": [
    {
     "data": {
      "text/html": [
       "<div>\n",
       "<style scoped>\n",
       "    .dataframe tbody tr th:only-of-type {\n",
       "        vertical-align: middle;\n",
       "    }\n",
       "\n",
       "    .dataframe tbody tr th {\n",
       "        vertical-align: top;\n",
       "    }\n",
       "\n",
       "    .dataframe thead th {\n",
       "        text-align: right;\n",
       "    }\n",
       "</style>\n",
       "<table border=\"1\" class=\"dataframe\">\n",
       "  <thead>\n",
       "    <tr style=\"text-align: right;\">\n",
       "      <th></th>\n",
       "      <th>Model</th>\n",
       "      <th>Accuracy</th>\n",
       "      <th>Precision</th>\n",
       "      <th>Recall</th>\n",
       "      <th>F1 Score</th>\n",
       "      <th>ROC</th>\n",
       "    </tr>\n",
       "  </thead>\n",
       "  <tbody>\n",
       "    <tr>\n",
       "      <th>0</th>\n",
       "      <td>lr</td>\n",
       "      <td>0.777208</td>\n",
       "      <td>0.150000</td>\n",
       "      <td>0.000374</td>\n",
       "      <td>0.000746</td>\n",
       "      <td>0.648921</td>\n",
       "    </tr>\n",
       "    <tr>\n",
       "      <th>1</th>\n",
       "      <td>knn_clf</td>\n",
       "      <td>0.743417</td>\n",
       "      <td>0.346498</td>\n",
       "      <td>0.173022</td>\n",
       "      <td>0.230422</td>\n",
       "      <td>0.594068</td>\n",
       "    </tr>\n",
       "    <tr>\n",
       "      <th>2</th>\n",
       "      <td>DecisionTree</td>\n",
       "      <td>0.723083</td>\n",
       "      <td>0.386824</td>\n",
       "      <td>0.415646</td>\n",
       "      <td>0.400569</td>\n",
       "      <td>0.613420</td>\n",
       "    </tr>\n",
       "    <tr>\n",
       "      <th>3</th>\n",
       "      <td>NB</td>\n",
       "      <td>0.372750</td>\n",
       "      <td>0.247536</td>\n",
       "      <td>0.890015</td>\n",
       "      <td>0.387318</td>\n",
       "      <td>0.671768</td>\n",
       "    </tr>\n",
       "    <tr>\n",
       "      <th>4</th>\n",
       "      <td>svm_clf</td>\n",
       "      <td>0.777250</td>\n",
       "      <td>0.000000</td>\n",
       "      <td>0.000000</td>\n",
       "      <td>0.000000</td>\n",
       "      <td>0.568021</td>\n",
       "    </tr>\n",
       "  </tbody>\n",
       "</table>\n",
       "</div>"
      ],
      "text/plain": [
       "          Model  Accuracy  Precision    Recall  F1 Score       ROC\n",
       "0            lr  0.777208   0.150000  0.000374  0.000746  0.648921\n",
       "1       knn_clf  0.743417   0.346498  0.173022  0.230422  0.594068\n",
       "2  DecisionTree  0.723083   0.386824  0.415646  0.400569  0.613420\n",
       "3            NB  0.372750   0.247536  0.890015  0.387318  0.671768\n",
       "4       svm_clf  0.777250   0.000000  0.000000  0.000000  0.568021"
      ]
     },
     "execution_count": 40,
     "metadata": {},
     "output_type": "execute_result"
    }
   ],
   "source": [
    "model_results"
   ]
  },
  {
   "cell_type": "code",
   "execution_count": 31,
   "metadata": {},
   "outputs": [],
   "source": [
    "models2 = []\n",
    "models2.append(('LR smote', LogisticRegression()))\n",
    "models2.append(('KNN smote', KNeighborsClassifier()))\n",
    "models2.append(('DecisonTree smote', DecisionTreeClassifier()))\n",
    "models2.append(('NB smote', GaussianNB()))\n",
    "models2.append(('SVM smote', SVC()))"
   ]
  },
  {
   "cell_type": "code",
   "execution_count": 32,
   "metadata": {
    "scrolled": true
   },
   "outputs": [
    {
     "name": "stdout",
     "output_type": "stream",
     "text": [
      "LR smote: 0.000746 (0.001491)\n",
      "KNN smote: 0.230422 (0.030002)\n",
      "DecisonTree smote: 0.406422 (0.016875)\n",
      "NB smote: 0.387318 (0.004152)\n",
      "SVM smote: 0.000000 (0.000000)\n"
     ]
    }
   ],
   "source": [
    "results2 = []\n",
    "names2= []\n",
    "scoring='f1'\n",
    "for name, model in models2:\n",
    "    kfold = KFold(n_splits=num_folds, random_state=seed)\n",
    "    skf = StratifiedKFold(n_splits=num_folds, random_state=seed)\n",
    "    cv_results = cross_val_score(model, X_train, Y_train, cv=skf, scoring=scoring)\n",
    "    results2.append(cv_results)\n",
    "    names2.append(name)\n",
    "    msg = \"%s: %f (%f)\" % (name, cv_results.mean(), cv_results.std())\n",
    "    print(msg)"
   ]
  },
  {
   "cell_type": "code",
   "execution_count": 34,
   "metadata": {
    "scrolled": true
   },
   "outputs": [
    {
     "data": {
      "image/png": "[encoded data removed]",
      "text/plain": [
       "<Figure size 432x288 with 1 Axes>"
      ]
     },
     "metadata": {
      "needs_background": "light"
     },
     "output_type": "display_data"
    }
   ],
   "source": [
    "# Compare Algorithms\n",
    "fig = pyplot.figure()\n",
    "fig.suptitle('Algorithm Comparison')\n",
    "ax = fig.add_subplot(111)\n",
    "pyplot.boxplot(results2)\n",
    "ax.set_xticklabels(names2)\n",
    "plt.xticks(rotation=45)\n",
    "pyplot.show()"
   ]
  },
  {
   "cell_type": "code",
   "execution_count": null,
   "metadata": {},
   "outputs": [],
   "source": []
  },
  {
   "cell_type": "markdown",
   "metadata": {},
   "source": [
    "# PCA"
   ]
  },
  {
   "cell_type": "code",
   "execution_count": 51,
   "metadata": {},
   "outputs": [
    {
     "name": "stdout",
     "output_type": "stream",
     "text": [
      "17\n",
      "35\n",
      "Number features: 19\tTotal Variance Explained: 0.9547671414230386\n"
     ]
    }
   ],
   "source": [
    "scaler = StandardScaler()\n",
    "X_train_scaled = scaler.fit_transform(X_train)\n",
    "pca = PCA()\n",
    "X_pca = pca.fit_transform(X_train_scaled)\n",
    "total_explained_variance = pca.explained_variance_ratio_.cumsum()\n",
    "n_over_95 = len(total_explained_variance[total_explained_variance >= .95])\n",
    "print(n_over_95)\n",
    "print(X.shape[1])\n",
    "n_to_reach_95 = X.shape[1] - n_over_95 + 1\n",
    "print('Number features: {}\\tTotal Variance Explained: {}'.format(n_to_reach_95, total_explained_variance[n_to_reach_95-1]))"
   ]
  },
  {
   "cell_type": "code",
   "execution_count": 95,
   "metadata": {},
   "outputs": [],
   "source": [
    "results = []\n",
    "names = []\n",
    "tested_models = {\n",
    "    'lr': LogisticRegression(),\n",
    "    'LDA': LinearDiscriminantAnalysis(),\n",
    "    'knn_clf': KNeighborsClassifier(),\n",
    "    'CART': DecisionTreeClassifier(),\n",
    "    'NB': GaussianNB(),\n",
    "    'svm_clf': SVC()\n",
    "}\n",
    "\n",
    "\n",
    "skf = StratifiedKFold(n_splits=num_folds, random_state=seed)\n",
    "for model in tested_models:\n",
    "    pipe = Pipeline([\n",
    "        (\"features\", features),\n",
    "        ('reduce_dim', PCA(n_components=n_to_reach_95)),\n",
    "        ('model', tested_models[model])\n",
    "    ])\n",
    "    kfold = KFold(n_splits=num_folds, random_state=seed)\n",
    "\n",
    "    cv_results = cross_validate(tested_models[model],X_train_resampled, y_train_resampled, cv=skf,\n",
    "                        scoring=('accuracy', 'precision', 'recall','f1','roc_auc'), return_train_score=False)\n",
    "    results.append(cv_results)\n",
    "    names.append(model)\n",
    "    \n",
    "    modeldf =  pd.DataFrame([[model+' PCA',cv_results['test_accuracy'].mean(),cv_results['test_precision'].mean(),cv_results['test_recall'].mean(),cv_results['test_f1'].mean(),cv_results['test_roc_auc'].mean()]],\n",
    "    columns = ['Model', 'Accuracy', 'Precision', 'Recall', 'F1 Score','ROC'])\n",
    "    model_results = model_results.append(modeldf, ignore_index = True)"
   ]
  },
  {
   "cell_type": "code",
   "execution_count": 103,
   "metadata": {},
   "outputs": [
    {
     "data": {
      "text/html": [
       "<div>\n",
       "<style scoped>\n",
       "    .dataframe tbody tr th:only-of-type {\n",
       "        vertical-align: middle;\n",
       "    }\n",
       "\n",
       "    .dataframe tbody tr th {\n",
       "        vertical-align: top;\n",
       "    }\n",
       "\n",
       "    .dataframe thead th {\n",
       "        text-align: right;\n",
       "    }\n",
       "</style>\n",
       "<table border=\"1\" class=\"dataframe\">\n",
       "  <thead>\n",
       "    <tr style=\"text-align: right;\">\n",
       "      <th></th>\n",
       "      <th>Model</th>\n",
       "      <th>Accuracy</th>\n",
       "      <th>Precision</th>\n",
       "      <th>Recall</th>\n",
       "      <th>F1 Score</th>\n",
       "      <th>ROC</th>\n",
       "    </tr>\n",
       "  </thead>\n",
       "  <tbody>\n",
       "    <tr>\n",
       "      <th>0</th>\n",
       "      <td>lr</td>\n",
       "      <td>0.777250</td>\n",
       "      <td>0.200000</td>\n",
       "      <td>0.000374</td>\n",
       "      <td>0.000746</td>\n",
       "      <td>0.648759</td>\n",
       "    </tr>\n",
       "    <tr>\n",
       "      <th>1</th>\n",
       "      <td>LDA</td>\n",
       "      <td>0.811958</td>\n",
       "      <td>0.704068</td>\n",
       "      <td>0.268994</td>\n",
       "      <td>0.389054</td>\n",
       "      <td>0.720204</td>\n",
       "    </tr>\n",
       "    <tr>\n",
       "      <th>2</th>\n",
       "      <td>knn_clf</td>\n",
       "      <td>0.743417</td>\n",
       "      <td>0.346498</td>\n",
       "      <td>0.173022</td>\n",
       "      <td>0.230422</td>\n",
       "      <td>0.594068</td>\n",
       "    </tr>\n",
       "    <tr>\n",
       "      <th>3</th>\n",
       "      <td>CART</td>\n",
       "      <td>0.729958</td>\n",
       "      <td>0.400205</td>\n",
       "      <td>0.424993</td>\n",
       "      <td>0.412183</td>\n",
       "      <td>0.621176</td>\n",
       "    </tr>\n",
       "    <tr>\n",
       "      <th>4</th>\n",
       "      <td>NB</td>\n",
       "      <td>0.372167</td>\n",
       "      <td>0.247331</td>\n",
       "      <td>0.889828</td>\n",
       "      <td>0.387049</td>\n",
       "      <td>0.671863</td>\n",
       "    </tr>\n",
       "    <tr>\n",
       "      <th>5</th>\n",
       "      <td>svm_clf</td>\n",
       "      <td>0.777250</td>\n",
       "      <td>0.000000</td>\n",
       "      <td>0.000000</td>\n",
       "      <td>0.000000</td>\n",
       "      <td>0.569558</td>\n",
       "    </tr>\n",
       "    <tr>\n",
       "      <th>6</th>\n",
       "      <td>lr smote</td>\n",
       "      <td>0.620082</td>\n",
       "      <td>0.613031</td>\n",
       "      <td>0.651601</td>\n",
       "      <td>0.631679</td>\n",
       "      <td>0.659878</td>\n",
       "    </tr>\n",
       "    <tr>\n",
       "      <th>7</th>\n",
       "      <td>LDA smote</td>\n",
       "      <td>0.703523</td>\n",
       "      <td>0.723506</td>\n",
       "      <td>0.658247</td>\n",
       "      <td>0.689114</td>\n",
       "      <td>0.749116</td>\n",
       "    </tr>\n",
       "    <tr>\n",
       "      <th>8</th>\n",
       "      <td>knn_clf smote</td>\n",
       "      <td>0.751368</td>\n",
       "      <td>0.692844</td>\n",
       "      <td>0.902161</td>\n",
       "      <td>0.783546</td>\n",
       "      <td>0.837494</td>\n",
       "    </tr>\n",
       "    <tr>\n",
       "      <th>9</th>\n",
       "      <td>CART smote</td>\n",
       "      <td>0.811170</td>\n",
       "      <td>0.798863</td>\n",
       "      <td>0.814430</td>\n",
       "      <td>0.792047</td>\n",
       "      <td>0.811148</td>\n",
       "    </tr>\n",
       "    <tr>\n",
       "      <th>10</th>\n",
       "      <td>NB smote</td>\n",
       "      <td>0.552616</td>\n",
       "      <td>0.529558</td>\n",
       "      <td>0.942370</td>\n",
       "      <td>0.678073</td>\n",
       "      <td>0.693100</td>\n",
       "    </tr>\n",
       "    <tr>\n",
       "      <th>11</th>\n",
       "      <td>svm_clf smote</td>\n",
       "      <td>0.628257</td>\n",
       "      <td>0.613495</td>\n",
       "      <td>0.693148</td>\n",
       "      <td>0.650866</td>\n",
       "      <td>0.694589</td>\n",
       "    </tr>\n",
       "    <tr>\n",
       "      <th>12</th>\n",
       "      <td>lr PCA</td>\n",
       "      <td>0.620082</td>\n",
       "      <td>0.613031</td>\n",
       "      <td>0.651601</td>\n",
       "      <td>0.631679</td>\n",
       "      <td>0.659878</td>\n",
       "    </tr>\n",
       "    <tr>\n",
       "      <th>13</th>\n",
       "      <td>LDA PCA</td>\n",
       "      <td>0.703523</td>\n",
       "      <td>0.723506</td>\n",
       "      <td>0.658247</td>\n",
       "      <td>0.689114</td>\n",
       "      <td>0.749116</td>\n",
       "    </tr>\n",
       "    <tr>\n",
       "      <th>14</th>\n",
       "      <td>knn_clf PCA</td>\n",
       "      <td>0.751368</td>\n",
       "      <td>0.692844</td>\n",
       "      <td>0.902161</td>\n",
       "      <td>0.783546</td>\n",
       "      <td>0.837494</td>\n",
       "    </tr>\n",
       "    <tr>\n",
       "      <th>15</th>\n",
       "      <td>CART PCA</td>\n",
       "      <td>0.811572</td>\n",
       "      <td>0.800366</td>\n",
       "      <td>0.814752</td>\n",
       "      <td>0.792555</td>\n",
       "      <td>0.811549</td>\n",
       "    </tr>\n",
       "    <tr>\n",
       "      <th>16</th>\n",
       "      <td>NB PCA</td>\n",
       "      <td>0.552616</td>\n",
       "      <td>0.529558</td>\n",
       "      <td>0.942370</td>\n",
       "      <td>0.678073</td>\n",
       "      <td>0.693100</td>\n",
       "    </tr>\n",
       "    <tr>\n",
       "      <th>17</th>\n",
       "      <td>svm_clf PCA</td>\n",
       "      <td>0.628257</td>\n",
       "      <td>0.613495</td>\n",
       "      <td>0.693148</td>\n",
       "      <td>0.650866</td>\n",
       "      <td>0.694589</td>\n",
       "    </tr>\n",
       "  </tbody>\n",
       "</table>\n",
       "</div>"
      ],
      "text/plain": [
       "            Model  Accuracy  Precision    Recall  F1 Score       ROC\n",
       "0              lr  0.777250   0.200000  0.000374  0.000746  0.648759\n",
       "1             LDA  0.811958   0.704068  0.268994  0.389054  0.720204\n",
       "2         knn_clf  0.743417   0.346498  0.173022  0.230422  0.594068\n",
       "3            CART  0.729958   0.400205  0.424993  0.412183  0.621176\n",
       "4              NB  0.372167   0.247331  0.889828  0.387049  0.671863\n",
       "5         svm_clf  0.777250   0.000000  0.000000  0.000000  0.569558\n",
       "6        lr smote  0.620082   0.613031  0.651601  0.631679  0.659878\n",
       "7       LDA smote  0.703523   0.723506  0.658247  0.689114  0.749116\n",
       "8   knn_clf smote  0.751368   0.692844  0.902161  0.783546  0.837494\n",
       "9      CART smote  0.811170   0.798863  0.814430  0.792047  0.811148\n",
       "10       NB smote  0.552616   0.529558  0.942370  0.678073  0.693100\n",
       "11  svm_clf smote  0.628257   0.613495  0.693148  0.650866  0.694589\n",
       "12         lr PCA  0.620082   0.613031  0.651601  0.631679  0.659878\n",
       "13        LDA PCA  0.703523   0.723506  0.658247  0.689114  0.749116\n",
       "14    knn_clf PCA  0.751368   0.692844  0.902161  0.783546  0.837494\n",
       "15       CART PCA  0.811572   0.800366  0.814752  0.792555  0.811549\n",
       "16         NB PCA  0.552616   0.529558  0.942370  0.678073  0.693100\n",
       "17    svm_clf PCA  0.628257   0.613495  0.693148  0.650866  0.694589"
      ]
     },
     "execution_count": 103,
     "metadata": {},
     "output_type": "execute_result"
    }
   ],
   "source": [
    "model_results1"
   ]
  },
  {
   "cell_type": "markdown",
   "metadata": {},
   "source": [
    "The results suggest that Logistic Regression, Decision Tree and SVM are worth further study based on their f1 score\n"
   ]
  },
  {
   "cell_type": "markdown",
   "metadata": {},
   "source": [
    "Further if time is given by the institute we will look into Ensemble methods and ANN to see results"
   ]
  },
  {
   "cell_type": "code",
   "execution_count": null,
   "metadata": {},
   "outputs": [],
   "source": []
  }
 ],
 "metadata": {
  "kernelspec": {
   "display_name": "Python 3",
   "language": "python",
   "name": "python3"
  },
  "language_info": {
   "codemirror_mode": {
    "name": "ipython",
    "version": 3
   },
   "file_extension": ".py",
   "mimetype": "text/x-python",
   "name": "python",
   "nbconvert_exporter": "python",
   "pygments_lexer": "ipython3",
   "version": "3.7.6"
  }
 },
 "nbformat": 4,
 "nbformat_minor": 2
}
